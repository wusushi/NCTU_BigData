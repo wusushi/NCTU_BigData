{
  "nbformat": 4,
  "nbformat_minor": 0,
  "metadata": {
    "colab": {
      "name": "Homwork1test.ipynb",
      "provenance": [],
      "collapsed_sections": []
    },
    "kernelspec": {
      "name": "python3",
      "display_name": "Python 3"
    }
  },
  "cells": [
    {
      "cell_type": "code",
      "metadata": {
        "id": "PbPojje_iywO",
        "colab": {
          "base_uri": "https://localhost:8080/"
        },
        "outputId": "5a2bef27-d60d-4238-9559-ead831fa1350"
      },
      "source": [
        "!pip install pyspark\n"
      ],
      "execution_count": null,
      "outputs": [
        {
          "output_type": "stream",
          "text": [
            "Collecting pyspark\n",
            "\u001b[?25l  Downloading https://files.pythonhosted.org/packages/f0/26/198fc8c0b98580f617cb03cb298c6056587b8f0447e20fa40c5b634ced77/pyspark-3.0.1.tar.gz (204.2MB)\n",
            "\u001b[K     |████████████████████████████████| 204.2MB 58kB/s \n",
            "\u001b[?25hCollecting py4j==0.10.9\n",
            "\u001b[?25l  Downloading https://files.pythonhosted.org/packages/9e/b6/6a4fb90cd235dc8e265a6a2067f2a2c99f0d91787f06aca4bcf7c23f3f80/py4j-0.10.9-py2.py3-none-any.whl (198kB)\n",
            "\u001b[K     |████████████████████████████████| 204kB 42.2MB/s \n",
            "\u001b[?25hBuilding wheels for collected packages: pyspark\n",
            "  Building wheel for pyspark (setup.py) ... \u001b[?25l\u001b[?25hdone\n",
            "  Created wheel for pyspark: filename=pyspark-3.0.1-py2.py3-none-any.whl size=204612243 sha256=ae5a3e3c8bb7e13e7a58ab0c7acff474fcd573ab051334d3290197f2ff3254fa\n",
            "  Stored in directory: /root/.cache/pip/wheels/5e/bd/07/031766ca628adec8435bb40f0bd83bb676ce65ff4007f8e73f\n",
            "Successfully built pyspark\n",
            "Installing collected packages: py4j, pyspark\n",
            "Successfully installed py4j-0.10.9 pyspark-3.0.1\n"
          ],
          "name": "stdout"
        }
      ]
    },
    {
      "cell_type": "code",
      "metadata": {
        "id": "r19v3-OokWVF"
      },
      "source": [
        "from pyspark.sql import SparkSession\n",
        "from pyspark import SparkConf, SparkContext\n",
        "import time\n",
        "spark = SparkSession.builder.master(\"local\").getOrCreate()\n",
        "conf = SparkConf().setAppName('appname').setMaster(\"local[*]\")\n",
        "conf.set('spark.driver.memory', '20g')\n",
        "sc = SparkContext.getOrCreate(conf=conf)\n",
        "# sc = SparkContext.getOrCreate()\n"
      ],
      "execution_count": null,
      "outputs": []
    },
    {
      "cell_type": "code",
      "metadata": {
        "id": "z3q-KSzRrQuY",
        "colab": {
          "base_uri": "https://localhost:8080/",
          "height": 35
        },
        "outputId": "2e379926-c19e-4ca2-c91e-b72fb3659bbc"
      },
      "source": [
        "rdd = sc.parallelize([\"Hello Spark\"])\n",
        "counts = rdd.flatMap(lambda line: line.split(\" \")) \\\n",
        "    .map(lambda word: (word, 1)) \\\n",
        "    .reduceByKey(lambda a, b: a + b) \\\n",
        "    .collect()\n",
        "print(counts)"
      ],
      "execution_count": null,
      "outputs": [
        {
          "output_type": "stream",
          "text": [
            "[('Hello', 1), ('Spark', 1)]\n"
          ],
          "name": "stdout"
        }
      ]
    },
    {
      "cell_type": "code",
      "metadata": {
        "id": "KkqDFH_flIeq",
        "colab": {
          "base_uri": "https://localhost:8080/",
          "height": 417
        },
        "outputId": "897323b7-cc10-4156-b5bd-ea64dacf9b55"
      },
      "source": [
        "import pandas as pd\n",
        "taxifile = []\n",
        "for i in range(1, 13):\n",
        "  month = \"\"\n",
        "  if i < 10:\n",
        "    month = \"0\" + str(i)\n",
        "  else:\n",
        "    month = str(i)\n",
        "  url = '/content/drive/Shared drives/NCTU-1091-Big Data/Homework 1/data/yellow/yellow_tripdata_2019-' + month + '.csv'\n",
        "  taxicsv = pd.read_csv(url, \n",
        "              # usecols=[\"PULocationID\", \"DOLocationID\"], \n",
        "              # dtype={\"PULocationID\" : \"int\", \"DOLocationID\" : \"int\"}\n",
        "              # usecols=[\"tpep_pickup_datetime\", \"tpep_dropoff_datetime\"], \n",
        "              usecols=[\"tpep_dropoff_datetime\"], \n",
        "              dtype={\"tpep_dropoff_datetime\" : \"str\"}\n",
        "              )\n",
        "  taxifile.append(taxicsv)\n",
        "taxifile = pd.concat(taxifile, axis=0, ignore_index=True)\n",
        "print(taxifile)"
      ],
      "execution_count": null,
      "outputs": [
        {
          "output_type": "error",
          "ename": "KeyboardInterrupt",
          "evalue": "ignored",
          "traceback": [
            "\u001b[0;31m---------------------------------------------------------------------------\u001b[0m",
            "\u001b[0;31mKeyboardInterrupt\u001b[0m                         Traceback (most recent call last)",
            "\u001b[0;32m<ipython-input-1-6731f6c45264>\u001b[0m in \u001b[0;36m<module>\u001b[0;34m()\u001b[0m\n\u001b[1;32m     13\u001b[0m               \u001b[0;31m# usecols=[\"tpep_pickup_datetime\", \"tpep_dropoff_datetime\"],\u001b[0m\u001b[0;34m\u001b[0m\u001b[0;34m\u001b[0m\u001b[0;34m\u001b[0m\u001b[0m\n\u001b[1;32m     14\u001b[0m               \u001b[0musecols\u001b[0m\u001b[0;34m=\u001b[0m\u001b[0;34m[\u001b[0m\u001b[0;34m\"tpep_dropoff_datetime\"\u001b[0m\u001b[0;34m]\u001b[0m\u001b[0;34m,\u001b[0m\u001b[0;34m\u001b[0m\u001b[0;34m\u001b[0m\u001b[0m\n\u001b[0;32m---> 15\u001b[0;31m               \u001b[0mdtype\u001b[0m\u001b[0;34m=\u001b[0m\u001b[0;34m{\u001b[0m\u001b[0;34m\"tpep_dropoff_datetime\"\u001b[0m \u001b[0;34m:\u001b[0m \u001b[0;34m\"str\"\u001b[0m\u001b[0;34m}\u001b[0m\u001b[0;34m\u001b[0m\u001b[0;34m\u001b[0m\u001b[0m\n\u001b[0m\u001b[1;32m     16\u001b[0m               )\n\u001b[1;32m     17\u001b[0m   \u001b[0mtaxifile\u001b[0m\u001b[0;34m.\u001b[0m\u001b[0mappend\u001b[0m\u001b[0;34m(\u001b[0m\u001b[0mtaxicsv\u001b[0m\u001b[0;34m)\u001b[0m\u001b[0;34m\u001b[0m\u001b[0;34m\u001b[0m\u001b[0m\n",
            "\u001b[0;32m/usr/local/lib/python3.6/dist-packages/pandas/io/parsers.py\u001b[0m in \u001b[0;36mread_csv\u001b[0;34m(filepath_or_buffer, sep, delimiter, header, names, index_col, usecols, squeeze, prefix, mangle_dupe_cols, dtype, engine, converters, true_values, false_values, skipinitialspace, skiprows, skipfooter, nrows, na_values, keep_default_na, na_filter, verbose, skip_blank_lines, parse_dates, infer_datetime_format, keep_date_col, date_parser, dayfirst, cache_dates, iterator, chunksize, compression, thousands, decimal, lineterminator, quotechar, quoting, doublequote, escapechar, comment, encoding, dialect, error_bad_lines, warn_bad_lines, delim_whitespace, low_memory, memory_map, float_precision)\u001b[0m\n\u001b[1;32m    686\u001b[0m     )\n\u001b[1;32m    687\u001b[0m \u001b[0;34m\u001b[0m\u001b[0m\n\u001b[0;32m--> 688\u001b[0;31m     \u001b[0;32mreturn\u001b[0m \u001b[0m_read\u001b[0m\u001b[0;34m(\u001b[0m\u001b[0mfilepath_or_buffer\u001b[0m\u001b[0;34m,\u001b[0m \u001b[0mkwds\u001b[0m\u001b[0;34m)\u001b[0m\u001b[0;34m\u001b[0m\u001b[0;34m\u001b[0m\u001b[0m\n\u001b[0m\u001b[1;32m    689\u001b[0m \u001b[0;34m\u001b[0m\u001b[0m\n\u001b[1;32m    690\u001b[0m \u001b[0;34m\u001b[0m\u001b[0m\n",
            "\u001b[0;32m/usr/local/lib/python3.6/dist-packages/pandas/io/parsers.py\u001b[0m in \u001b[0;36m_read\u001b[0;34m(filepath_or_buffer, kwds)\u001b[0m\n\u001b[1;32m    452\u001b[0m \u001b[0;34m\u001b[0m\u001b[0m\n\u001b[1;32m    453\u001b[0m     \u001b[0;31m# Create the parser.\u001b[0m\u001b[0;34m\u001b[0m\u001b[0;34m\u001b[0m\u001b[0;34m\u001b[0m\u001b[0m\n\u001b[0;32m--> 454\u001b[0;31m     \u001b[0mparser\u001b[0m \u001b[0;34m=\u001b[0m \u001b[0mTextFileReader\u001b[0m\u001b[0;34m(\u001b[0m\u001b[0mfp_or_buf\u001b[0m\u001b[0;34m,\u001b[0m \u001b[0;34m**\u001b[0m\u001b[0mkwds\u001b[0m\u001b[0;34m)\u001b[0m\u001b[0;34m\u001b[0m\u001b[0;34m\u001b[0m\u001b[0m\n\u001b[0m\u001b[1;32m    455\u001b[0m \u001b[0;34m\u001b[0m\u001b[0m\n\u001b[1;32m    456\u001b[0m     \u001b[0;32mif\u001b[0m \u001b[0mchunksize\u001b[0m \u001b[0;32mor\u001b[0m \u001b[0miterator\u001b[0m\u001b[0;34m:\u001b[0m\u001b[0;34m\u001b[0m\u001b[0;34m\u001b[0m\u001b[0m\n",
            "\u001b[0;32m/usr/local/lib/python3.6/dist-packages/pandas/io/parsers.py\u001b[0m in \u001b[0;36m__init__\u001b[0;34m(self, f, engine, **kwds)\u001b[0m\n\u001b[1;32m    946\u001b[0m             \u001b[0mself\u001b[0m\u001b[0;34m.\u001b[0m\u001b[0moptions\u001b[0m\u001b[0;34m[\u001b[0m\u001b[0;34m\"has_index_names\"\u001b[0m\u001b[0;34m]\u001b[0m \u001b[0;34m=\u001b[0m \u001b[0mkwds\u001b[0m\u001b[0;34m[\u001b[0m\u001b[0;34m\"has_index_names\"\u001b[0m\u001b[0;34m]\u001b[0m\u001b[0;34m\u001b[0m\u001b[0;34m\u001b[0m\u001b[0m\n\u001b[1;32m    947\u001b[0m \u001b[0;34m\u001b[0m\u001b[0m\n\u001b[0;32m--> 948\u001b[0;31m         \u001b[0mself\u001b[0m\u001b[0;34m.\u001b[0m\u001b[0m_make_engine\u001b[0m\u001b[0;34m(\u001b[0m\u001b[0mself\u001b[0m\u001b[0;34m.\u001b[0m\u001b[0mengine\u001b[0m\u001b[0;34m)\u001b[0m\u001b[0;34m\u001b[0m\u001b[0;34m\u001b[0m\u001b[0m\n\u001b[0m\u001b[1;32m    949\u001b[0m \u001b[0;34m\u001b[0m\u001b[0m\n\u001b[1;32m    950\u001b[0m     \u001b[0;32mdef\u001b[0m \u001b[0mclose\u001b[0m\u001b[0;34m(\u001b[0m\u001b[0mself\u001b[0m\u001b[0;34m)\u001b[0m\u001b[0;34m:\u001b[0m\u001b[0;34m\u001b[0m\u001b[0;34m\u001b[0m\u001b[0m\n",
            "\u001b[0;32m/usr/local/lib/python3.6/dist-packages/pandas/io/parsers.py\u001b[0m in \u001b[0;36m_make_engine\u001b[0;34m(self, engine)\u001b[0m\n\u001b[1;32m   1178\u001b[0m     \u001b[0;32mdef\u001b[0m \u001b[0m_make_engine\u001b[0m\u001b[0;34m(\u001b[0m\u001b[0mself\u001b[0m\u001b[0;34m,\u001b[0m \u001b[0mengine\u001b[0m\u001b[0;34m=\u001b[0m\u001b[0;34m\"c\"\u001b[0m\u001b[0;34m)\u001b[0m\u001b[0;34m:\u001b[0m\u001b[0;34m\u001b[0m\u001b[0;34m\u001b[0m\u001b[0m\n\u001b[1;32m   1179\u001b[0m         \u001b[0;32mif\u001b[0m \u001b[0mengine\u001b[0m \u001b[0;34m==\u001b[0m \u001b[0;34m\"c\"\u001b[0m\u001b[0;34m:\u001b[0m\u001b[0;34m\u001b[0m\u001b[0;34m\u001b[0m\u001b[0m\n\u001b[0;32m-> 1180\u001b[0;31m             \u001b[0mself\u001b[0m\u001b[0;34m.\u001b[0m\u001b[0m_engine\u001b[0m \u001b[0;34m=\u001b[0m \u001b[0mCParserWrapper\u001b[0m\u001b[0;34m(\u001b[0m\u001b[0mself\u001b[0m\u001b[0;34m.\u001b[0m\u001b[0mf\u001b[0m\u001b[0;34m,\u001b[0m \u001b[0;34m**\u001b[0m\u001b[0mself\u001b[0m\u001b[0;34m.\u001b[0m\u001b[0moptions\u001b[0m\u001b[0;34m)\u001b[0m\u001b[0;34m\u001b[0m\u001b[0;34m\u001b[0m\u001b[0m\n\u001b[0m\u001b[1;32m   1181\u001b[0m         \u001b[0;32melse\u001b[0m\u001b[0;34m:\u001b[0m\u001b[0;34m\u001b[0m\u001b[0;34m\u001b[0m\u001b[0m\n\u001b[1;32m   1182\u001b[0m             \u001b[0;32mif\u001b[0m \u001b[0mengine\u001b[0m \u001b[0;34m==\u001b[0m \u001b[0;34m\"python\"\u001b[0m\u001b[0;34m:\u001b[0m\u001b[0;34m\u001b[0m\u001b[0;34m\u001b[0m\u001b[0m\n",
            "\u001b[0;32m/usr/local/lib/python3.6/dist-packages/pandas/io/parsers.py\u001b[0m in \u001b[0;36m__init__\u001b[0;34m(self, src, **kwds)\u001b[0m\n\u001b[1;32m   2008\u001b[0m         \u001b[0mkwds\u001b[0m\u001b[0;34m[\u001b[0m\u001b[0;34m\"usecols\"\u001b[0m\u001b[0;34m]\u001b[0m \u001b[0;34m=\u001b[0m \u001b[0mself\u001b[0m\u001b[0;34m.\u001b[0m\u001b[0musecols\u001b[0m\u001b[0;34m\u001b[0m\u001b[0;34m\u001b[0m\u001b[0m\n\u001b[1;32m   2009\u001b[0m \u001b[0;34m\u001b[0m\u001b[0m\n\u001b[0;32m-> 2010\u001b[0;31m         \u001b[0mself\u001b[0m\u001b[0;34m.\u001b[0m\u001b[0m_reader\u001b[0m \u001b[0;34m=\u001b[0m \u001b[0mparsers\u001b[0m\u001b[0;34m.\u001b[0m\u001b[0mTextReader\u001b[0m\u001b[0;34m(\u001b[0m\u001b[0msrc\u001b[0m\u001b[0;34m,\u001b[0m \u001b[0;34m**\u001b[0m\u001b[0mkwds\u001b[0m\u001b[0;34m)\u001b[0m\u001b[0;34m\u001b[0m\u001b[0;34m\u001b[0m\u001b[0m\n\u001b[0m\u001b[1;32m   2011\u001b[0m         \u001b[0mself\u001b[0m\u001b[0;34m.\u001b[0m\u001b[0munnamed_cols\u001b[0m \u001b[0;34m=\u001b[0m \u001b[0mself\u001b[0m\u001b[0;34m.\u001b[0m\u001b[0m_reader\u001b[0m\u001b[0;34m.\u001b[0m\u001b[0munnamed_cols\u001b[0m\u001b[0;34m\u001b[0m\u001b[0;34m\u001b[0m\u001b[0m\n\u001b[1;32m   2012\u001b[0m \u001b[0;34m\u001b[0m\u001b[0m\n",
            "\u001b[0;32mpandas/_libs/parsers.pyx\u001b[0m in \u001b[0;36mpandas._libs.parsers.TextReader.__cinit__\u001b[0;34m()\u001b[0m\n",
            "\u001b[0;32m/usr/local/lib/python3.6/dist-packages/pandas/core/dtypes/common.py\u001b[0m in \u001b[0;36mpandas_dtype\u001b[0;34m(dtype)\u001b[0m\n\u001b[1;32m   1731\u001b[0m \u001b[0;34m\u001b[0m\u001b[0m\n\u001b[1;32m   1732\u001b[0m \u001b[0;34m\u001b[0m\u001b[0m\n\u001b[0;32m-> 1733\u001b[0;31m \u001b[0;32mdef\u001b[0m \u001b[0mpandas_dtype\u001b[0m\u001b[0;34m(\u001b[0m\u001b[0mdtype\u001b[0m\u001b[0;34m)\u001b[0m \u001b[0;34m->\u001b[0m \u001b[0mDtypeObj\u001b[0m\u001b[0;34m:\u001b[0m\u001b[0;34m\u001b[0m\u001b[0;34m\u001b[0m\u001b[0m\n\u001b[0m\u001b[1;32m   1734\u001b[0m     \"\"\"\n\u001b[1;32m   1735\u001b[0m     \u001b[0mConvert\u001b[0m \u001b[0minput\u001b[0m \u001b[0minto\u001b[0m \u001b[0ma\u001b[0m \u001b[0mpandas\u001b[0m \u001b[0monly\u001b[0m \u001b[0mdtype\u001b[0m \u001b[0mobject\u001b[0m \u001b[0;32mor\u001b[0m \u001b[0ma\u001b[0m \u001b[0mnumpy\u001b[0m \u001b[0mdtype\u001b[0m \u001b[0mobject\u001b[0m\u001b[0;34m.\u001b[0m\u001b[0;34m\u001b[0m\u001b[0;34m\u001b[0m\u001b[0m\n",
            "\u001b[0;31mKeyboardInterrupt\u001b[0m: "
          ]
        }
      ]
    },
    {
      "cell_type": "code",
      "metadata": {
        "id": "WfaSWBV8Jw8L"
      },
      "source": [
        "simpleData = [(\"James\",\"Sales\",\"NY\",90000,34,10000),\n",
        "    (\"Michael\",\"Sales\",\"NY\",86000,56,20000),\n",
        "    (\"Robert\",\"Sales\",\"CA\",81000,30,23000),\n",
        "    (\"Maria\",\"Finance\",\"CA\",90000,24,23000),\n",
        "    (\"Raman\",\"Finance\",\"CA\",99000,40,24000),\n",
        "    (\"Scott\",\"Finance\",\"NY\",83000,36,19000),\n",
        "    (\"Jen\",\"Finance\",\"NY\",79000,53,15000),\n",
        "    (\"Jeff\",\"Marketing\",\"CA\",80000,25,18000),\n",
        "    (\"Kumar\",\"Marketing\",\"NY\",91000,50,21000)\n",
        "  ]\n",
        "\n",
        "schema = [\"employee_name\",\"department\",\"state\",\"salary\",\"age\",\"bonus\"]\n",
        "df = spark.createDataFrame(data=simpleData, schema = schema)\n",
        "df.printSchema()\n",
        "df.show(truncate=False)\n",
        "df.groupBy(\"department\", \"employee_name\").count().show(truncate=False)"
      ],
      "execution_count": null,
      "outputs": []
    },
    {
      "cell_type": "code",
      "metadata": {
        "id": "j7st4YJP9RKf"
      },
      "source": [
        "# peak hours\n",
        "\n",
        "\n",
        "a = time.time()\n",
        "location = ['tpep_pickup_datetime', 'tpep_dropoff_datetime']\n",
        "rdd = sc.parallelize(taxifile.loc[:, 'tpep_dropoff_datetime'])\n",
        "counts = rdd.map(lambda datetime: (datetime.split(\" \")[1].split(\":\")[0], 1)) \\\n",
        "      .reduceByKey(lambda a, b: a + b) \\\n",
        "      .collect()\n",
        "\n",
        "print(time.time() - a, \"seconds\")\n",
        "print(max(counts))\n",
        "location = [[0, 0], [0, 0]]\n",
        "\n",
        "counts = sorted(counts, key=lambda x:x[1])\n",
        "for i in range(5):\n",
        "  print(counts[i], counts[len(counts) - i - 1])\n",
        "\n"
      ],
      "execution_count": null,
      "outputs": []
    },
    {
      "cell_type": "code",
      "metadata": {
        "id": "sG9KG37OTjHV",
        "colab": {
          "base_uri": "https://localhost:8080/",
          "height": 333
        },
        "outputId": "c4893f30-cb12-4420-e69e-cccf8854fd8c"
      },
      "source": [
        "a = time.time()\n",
        "location = ['PULocationID', 'DOLocationID']\n",
        "# rdd = sc.parallelize(taxifile.loc[:, ['PULocationID', 'DOLocationID']].values.tolist())\n",
        "# counts = rdd.flatMap(lambda x: [(('PU', x[0]), 1), (('DO', x[1]), 1)]) \\\n",
        "#     .reduceByKey(lambda a, b: a + b) \\\n",
        "#     .collect()\n",
        "rdd = sc.parallelize(taxifile.loc[:, 'DOLocationID'])\n",
        "counts = rdd.map(lambda x: (x, 1)) \\\n",
        "    .reduceByKey(lambda a, b: a + b) \\\n",
        "    .collect()\n",
        "\n",
        "print(time.time() - a, \"seconds\")\n",
        "counts = sorted(counts, key=lambda x:x[1])\n",
        "for i in range(5):\n",
        "  print(counts[i], counts[len(counts) - i - 1])\n",
        "location = [[0, 0], [0, 0]]\n",
        "\n",
        "for i in range(len(counts)):\n",
        "  if i[0][0] == 'DO':\n",
        "    if i[1] > location[1][1]:\n",
        "      location[1][0] = i[0]\n",
        "      location[1][1] = i[1]\n",
        "  else:\n",
        "    if i[1] > location[0][1]:\n",
        "      location[0][0] = i[0]\n",
        "      location[0][1] = i[1]\n",
        "print(location)"
      ],
      "execution_count": null,
      "outputs": [
        {
          "output_type": "stream",
          "text": [
            "95.17246723175049 seconds\n",
            "(110, 5) (236, 3429838)\n",
            "(199, 13) (161, 3261232)\n",
            "(105, 87) (237, 3256021)\n",
            "(2, 95) (170, 2643630)\n",
            "(99, 115) (230, 2596508)\n"
          ],
          "name": "stdout"
        },
        {
          "output_type": "error",
          "ename": "TypeError",
          "evalue": "ignored",
          "traceback": [
            "\u001b[0;31m---------------------------------------------------------------------------\u001b[0m",
            "\u001b[0;31mTypeError\u001b[0m                                 Traceback (most recent call last)",
            "\u001b[0;32m<ipython-input-8-9752174e7997>\u001b[0m in \u001b[0;36m<module>\u001b[0;34m()\u001b[0m\n\u001b[1;32m     15\u001b[0m \u001b[0;34m\u001b[0m\u001b[0m\n\u001b[1;32m     16\u001b[0m \u001b[0;32mfor\u001b[0m \u001b[0mi\u001b[0m \u001b[0;32min\u001b[0m \u001b[0mrange\u001b[0m\u001b[0;34m(\u001b[0m\u001b[0mlen\u001b[0m\u001b[0;34m(\u001b[0m\u001b[0mcounts\u001b[0m\u001b[0;34m)\u001b[0m\u001b[0;34m)\u001b[0m\u001b[0;34m:\u001b[0m\u001b[0;34m\u001b[0m\u001b[0;34m\u001b[0m\u001b[0m\n\u001b[0;32m---> 17\u001b[0;31m   \u001b[0;32mif\u001b[0m \u001b[0mi\u001b[0m\u001b[0;34m[\u001b[0m\u001b[0;36m0\u001b[0m\u001b[0;34m]\u001b[0m\u001b[0;34m[\u001b[0m\u001b[0;36m0\u001b[0m\u001b[0;34m]\u001b[0m \u001b[0;34m==\u001b[0m \u001b[0;34m'DO'\u001b[0m\u001b[0;34m:\u001b[0m\u001b[0;34m\u001b[0m\u001b[0;34m\u001b[0m\u001b[0m\n\u001b[0m\u001b[1;32m     18\u001b[0m     \u001b[0;32mif\u001b[0m \u001b[0mi\u001b[0m\u001b[0;34m[\u001b[0m\u001b[0;36m1\u001b[0m\u001b[0;34m]\u001b[0m \u001b[0;34m>\u001b[0m \u001b[0mlocation\u001b[0m\u001b[0;34m[\u001b[0m\u001b[0;36m1\u001b[0m\u001b[0;34m]\u001b[0m\u001b[0;34m[\u001b[0m\u001b[0;36m1\u001b[0m\u001b[0;34m]\u001b[0m\u001b[0;34m:\u001b[0m\u001b[0;34m\u001b[0m\u001b[0;34m\u001b[0m\u001b[0m\n\u001b[1;32m     19\u001b[0m       \u001b[0mlocation\u001b[0m\u001b[0;34m[\u001b[0m\u001b[0;36m1\u001b[0m\u001b[0;34m]\u001b[0m\u001b[0;34m[\u001b[0m\u001b[0;36m0\u001b[0m\u001b[0;34m]\u001b[0m \u001b[0;34m=\u001b[0m \u001b[0mi\u001b[0m\u001b[0;34m[\u001b[0m\u001b[0;36m0\u001b[0m\u001b[0;34m]\u001b[0m\u001b[0;34m\u001b[0m\u001b[0;34m\u001b[0m\u001b[0m\n",
            "\u001b[0;31mTypeError\u001b[0m: 'int' object is not subscriptable"
          ]
        }
      ]
    },
    {
      "cell_type": "code",
      "metadata": {
        "id": "kRD941OthBI1"
      },
      "source": [
        "from multiprocessing.dummy import Pool as ThreadPool\n",
        "\n",
        "# conf = SparkConf().setMaster('local[*]').setAppName('appname')\n",
        "# conf.set('spark.scheduler.mode', 'FAIR')\n",
        "# sc = SparkContext.getOrCreate(conf=conf)\n",
        "a = time.time()\n",
        "location = ['PULocationID', 'DOLocationID']\n",
        "def process(sc, location):\n",
        "  rdd = sc.parallelize(taxifile.loc[:, location]).cache()\n",
        "  counts = rdd.map(lambda x: (x, 1)) \\\n",
        "      .reduceByKey(lambda a, b: a + b) \\\n",
        "      .collect()\n",
        "  print(counts)\n",
        "  return counts\n",
        "p = ThreadPool(cpu_count())\n",
        "p.map(process, ['PULocationID', 'DOLocationID'])\n",
        "print(time.time() - a, \"seconds\")\n",
        "# location = [[0, 0], [0, 0]]\n",
        "\n",
        "# for i in counts:\n",
        "#   if i[0][0] == 'D':\n",
        "#     if i[1] > location[1][1]:\n",
        "#       location[1][0] = i[0]\n",
        "#       location[1][1] = i[1]\n",
        "#   else:\n",
        "#     if i[1] > location[0][1]:\n",
        "#       location[0][0] = i[0]\n",
        "#       location[0][1] = i[1]\n",
        "# print(location)\n",
        "\n"
      ],
      "execution_count": null,
      "outputs": []
    },
    {
      "cell_type": "code",
      "metadata": {
        "id": "I7ViHYjBEIiS"
      },
      "source": [
        "import multiprocessing\n",
        "from multiprocessing import Process, Pool\n",
        "\n",
        "def main_map(i):\n",
        "    result = i * i\n",
        "    return result\n",
        "\n",
        "inputs = [0, 1, 2, 3, 4, 5, 6, 7, 8, 9]\n",
        "cpus = multiprocessing.cpu_count()\n",
        "print(cpus)\n",
        "pool = Pool(cpus)\n",
        "pool_outputs = pool.map(main_map, inputs)\n",
        "print(pool_outputs)"
      ],
      "execution_count": null,
      "outputs": []
    },
    {
      "cell_type": "code",
      "metadata": {
        "id": "Elg-TqhiX0fs"
      },
      "source": [
        "#KMeans"
      ],
      "execution_count": null,
      "outputs": []
    },
    {
      "cell_type": "code",
      "metadata": {
        "id": "4NiWRqdoX1i3",
        "colab": {
          "base_uri": "https://localhost:8080/",
          "height": 260
        },
        "outputId": "17e34c5a-3abe-4263-e377-ccd783856d32"
      },
      "source": [
        "import pandas as pd\n",
        "\n",
        "def notzeros(rows, length):\n",
        "  if rows < 0:\n",
        "    return False\n",
        "  if taxifile.loc[rows][\"pickup_longitude\"] == 0 or taxifile.loc[rows][\"pickup_latitude\"] == 0 or taxifile.loc[rows][\"dropoff_longitude\"] == 0 or taxifile.loc[rows][\"dropoff_latitude\"] == 0:\n",
        "    return True\n",
        "  return False\n",
        "\n",
        "taxifile = []\n",
        "url = '/content/drive/Shared drives/NCTU-1091-Big Data/Homework 1/data/yellow/yellow_tripdata_2016-06.csv'\n",
        "taxifile = pd.read_csv(url, \n",
        "            usecols=[\"pickup_longitude\", \"pickup_latitude\", \"dropoff_longitude\", \"dropoff_latitude\"], \n",
        "            dtype={\"pickup_longitude\" : \"float\", \"pickup_latitude\" : \"float\", \"dropoff_longitude\" : \"float\", \"dropoff_latitude\" : \"float\"}\n",
        "            )\n",
        "# nonefile = taxifile.query('pickup_longitude == 0 or pickup_latitude == 0 or dropoff_longitude == 0 or dropoff_latitude == 0')\n",
        "print(taxifile)"
      ],
      "execution_count": null,
      "outputs": [
        {
          "output_type": "stream",
          "text": [
            "          pickup_longitude  ...  dropoff_latitude\n",
            "0               -73.983360  ...         40.753979\n",
            "1               -73.981720  ...         40.670242\n",
            "2               -73.994316  ...         40.742168\n",
            "3               -73.982361  ...         40.851540\n",
            "4               -73.987106  ...         40.766445\n",
            "...                    ...  ...               ...\n",
            "11135465        -73.971756  ...         40.761093\n",
            "11135466        -73.989693  ...         40.747814\n",
            "11135467        -73.973473  ...         40.743172\n",
            "11135468        -73.936806  ...         40.726055\n",
            "11135469        -73.991432  ...         40.768871\n",
            "\n",
            "[11135470 rows x 4 columns]\n"
          ],
          "name": "stdout"
        }
      ]
    },
    {
      "cell_type": "code",
      "metadata": {
        "id": "-qlt23wjZbL8",
        "colab": {
          "base_uri": "https://localhost:8080/",
          "height": 191
        },
        "outputId": "7d7806d6-0730-446e-a292-62ab37c3af02"
      },
      "source": [
        "print(taxifile.loc[0])\n",
        "print(taxifile.loc[0][1], taxifile.loc[0][2])\n",
        "for i in range(len(taxifile.loc[0])):\n",
        "  print(taxifile.loc[0][i])"
      ],
      "execution_count": null,
      "outputs": [
        {
          "output_type": "stream",
          "text": [
            "pickup_longitude    -73.983360\n",
            "pickup_latitude      40.760937\n",
            "dropoff_longitude   -73.977463\n",
            "dropoff_latitude     40.753979\n",
            "Name: 0, dtype: float64\n",
            "40.76093673706055 -73.97746276855469\n",
            "-73.98336029052734\n",
            "40.76093673706055\n",
            "-73.97746276855469\n",
            "40.75397872924805\n"
          ],
          "name": "stdout"
        }
      ]
    },
    {
      "cell_type": "code",
      "metadata": {
        "id": "eU-Iz5Pu8lfw",
        "colab": {
          "base_uri": "https://localhost:8080/",
          "height": 334
        },
        "outputId": "67a139ab-f08b-42c1-e7c3-72ae245a07b2"
      },
      "source": [
        "# KMeans\n",
        "import matplotlib.pyplot as plt  \n",
        "import random\n",
        "\n",
        "center = []\n",
        "locationclass = [1 for i in range(len(taxifile))]\n",
        "for i in range(5):\n",
        "  # index = random.randint(0, len(taxifile)-1)\n",
        "  center.append([taxifile.loc[i][0], taxifile.loc[i][1]])\n",
        "print(center)\n",
        "print(len(locationclass), taxifile.loc[98][0])\n",
        "color = ['k' for i in range(len(taxifile))]\n",
        "color[0] = 'r'\n",
        "color[1] = 'g'\n",
        "color[2] = 'b'\n",
        "color[3] = 'm'\n",
        "color[4] = '#b4b21f'\n",
        "fig = plt.figure() \n",
        "plt.xlabel('X')  \n",
        "plt.ylabel('Y')  \n",
        "# plt.scatter(taxifile.loc[:, 'pickup_longitude'],taxifile.loc[:, \"pickup_latitude\"],c=color,marker='s')  \n",
        "colmap = {0:'r', 1:'g', 2:'b', 3:'#b4b21f', 4:'m'}\n",
        "for i in range(len(color)):\n",
        "  plt.scatter(taxifile.loc[i][0],taxifile.loc[i][1],c=color[i])\n",
        "#設定圖示\n",
        "plt.legend('x1')  \n",
        "#顯示所畫的圖\n",
        "plt.show() "
      ],
      "execution_count": null,
      "outputs": [
        {
          "output_type": "stream",
          "text": [
            "[[-73.98336029052734, 40.76093673706055], [-73.98171997070312, 40.73666763305664], [-73.99431610107422, 40.75107192993164], [-73.98236083984375, 40.77389144897461], [-73.98710632324219, 40.73317337036133]]\n",
            "99 -73.96500396728516\n"
          ],
          "name": "stdout"
        },
        {
          "output_type": "display_data",
          "data": {
            "image/png": "[encoded data removed]",
            "text/plain": [
              "<Figure size 432x288 with 1 Axes>"
            ]
          },
          "metadata": {
            "tags": [],
            "needs_background": "light"
          }
        }
      ]
    },
    {
      "cell_type": "code",
      "metadata": {
        "id": "iFK9mOdnJH9L",
        "colab": {
          "base_uri": "https://localhost:8080/",
          "height": 320
        },
        "outputId": "36c59b97-2e51-40d6-82f8-4b2f0dbdffc0"
      },
      "source": [
        "import math\n",
        "import time\n",
        "import matplotlib.pyplot as plt  \n",
        "\n",
        "a = time.time()\n",
        "def Euclidean_distance(x, y):\n",
        "  distance = 0\n",
        "  for i in range(2):\n",
        "    distance += pow((x[i] - y[i]), 2)\n",
        "  distance = math.sqrt(distance)\n",
        "  return distance\n",
        "\n",
        "def KMeans(k, data, center, locationclass, colmap):\n",
        "  # data = {(60,9):[1, 1], (65,10):[1, 1], (75,15):[1, 1], (80,11):[1, 1], (85,17):[1, 1]}\n",
        "  # center = [[60,9], [65,10]]\n",
        "  # x = [12, 20, 28, 18, 29, 33, 24, 45, 45, 52, 51, 52, 55, 53, 55, 61, 64, 69, 72]\n",
        "  # y = [39, 36, 30, 52, 54, 46, 55, 59, 63, 70, 66, 63, 58, 23, 14, 8, 19, 7, 24]\n",
        "  tempcenter = [[0, 0] for i in range(k)]\n",
        "  fig = plt.figure() \n",
        "  color = ['k' for i in range(len(data))]\n",
        "  while (tempcenter != center):\n",
        "    for i in range(len(center)):\n",
        "      for j in range(len(center[i])):\n",
        "        tempcenter[i][j] = center[i][j]\n",
        "    for i in range(len(data)):\n",
        "      max = 1000000\n",
        "      for j in range(len(center)):\n",
        "        distance = Euclidean_distance(center[j], data.loc[i])\n",
        "        if distance < max:\n",
        "          locationclass[i] = j\n",
        "          max = distance\n",
        "          color[i] = colmap[j]\n",
        "    center = [[0, 0] for i in range(k)]\n",
        "    length = [0 for i in range(k)]\n",
        "    for i in range(len(data)):\n",
        "      if (data.loc[i][0] == 0) or (data.loc[i][1] == 0):\n",
        "        continue\n",
        "      center[locationclass[i]][0] += data.loc[i][0]\n",
        "      center[locationclass[i]][1] += data.loc[i][1]\n",
        "      length[locationclass[i]] += 1\n",
        "    for i in range(len(center)):\n",
        "      for j in range(len(center[i])):\n",
        "        center[i][j] = center[i][j] / length[i]\n",
        "    \n",
        "  print(center)\n",
        "  for i in range(len(color)):\n",
        "    plt.scatter(data.loc[i][0],data.loc[i][1],c=color[i])\n",
        "  plt.show()\n",
        "  \n",
        "KMeans(5, taxifile, center, locationclass, colmap)\n",
        "print(\"Total：{} seconds\".format(time.time() - a))\n",
        "\n",
        "\n",
        "\n",
        "# center = [[12, 39], [20, 36], [18, 52]]\n",
        "# colmap = {0:'r', 1:'g', 2:'b'}\n",
        "# locationclass = [1 for i in range(19)]\n",
        "# k=3\n",
        "# KMeans(3, k, center, locationclass, colmap)\n",
        "      "
      ],
      "execution_count": null,
      "outputs": [
        {
          "output_type": "stream",
          "text": [
            "[[-73.87197875976562, 40.77391242980957], [-73.97906556000581, 40.760624034984694], [-73.9607048034668, 40.77879197256906], [-73.99373111724853, 40.739953422546385], [-74.0118637084961, 40.7125670115153]]\n"
          ],
          "name": "stdout"
        },
        {
          "output_type": "display_data",
          "data": {
            "image/png": "[encoded data removed]",
            "text/plain": [
              "<Figure size 432x288 with 1 Axes>"
            ]
          },
          "metadata": {
            "tags": [],
            "needs_background": "light"
          }
        },
        {
          "output_type": "stream",
          "text": [
            "Total：2.8373260498046875 seconds\n"
          ],
          "name": "stdout"
        }
      ]
    },
    {
      "cell_type": "code",
      "metadata": {
        "id": "rH22Y5m6ERQZ",
        "colab": {
          "base_uri": "https://localhost:8080/",
          "height": 279
        },
        "outputId": "8f7496b8-5d60-4c93-9c8c-637e386cd4e9"
      },
      "source": [
        "import numpy as np  \n",
        "import matplotlib.pyplot as plt  \n",
        "#產生測試資料\n",
        "x = [10, 20, 30, 40, 50, 60]\n",
        "y = [40, 50, 60, 10, 30, 20]\n",
        "ax1 = plt.figure()  \n",
        "# ax1 = fig.add_subplot(111)  \n",
        "# #設定標題\n",
        "# ax1.set_title('Scatter Plot')  \n",
        "# #設定X軸標籤\n",
        "plt.xlabel('X')  \n",
        "# #設定Y軸標籤\n",
        "plt.ylabel('Y')  \n",
        "#畫散點圖\n",
        "cValue = ['r','y','g','b','r','y']  \n",
        "plt.scatter(x,y,c=cValue,marker='s')  \n",
        "#設定圖示\n",
        "plt.legend('x1')  \n",
        "#顯示所畫的圖\n",
        "plt.show()  "
      ],
      "execution_count": null,
      "outputs": [
        {
          "output_type": "display_data",
          "data": {
            "image/png": "[encoded data removed]",
            "text/plain": [
              "<Figure size 432x288 with 1 Axes>"
            ]
          },
          "metadata": {
            "tags": [],
            "needs_background": "light"
          }
        }
      ]
    },
    {
      "cell_type": "code",
      "metadata": {
        "id": "9GDMWr3aihHy"
      },
      "source": [
        "{0: [-73.98336029052734, 40.76093673706055], 1: [-73.98171997070312, 40.73666763305664], 2: [-73.99431610107422, 40.75107192993164], 3: [-73.98236083984375, 40.77389144897461], 4: [-73.98710632324219, 40.73317337036133]}\n",
        "\n",
        "\n",
        "[[-73.97228892256574, 40.76899923929354], [-73.98241023013466, 40.7440763774671], [-73.99616638183593, 40.74421371459961], [-73.87197875976562, 40.77391242980957], [-74.00516001383464, 40.72066275278727]]\n",
        "Total：0.9140398502349854 seconds\n",
        "\n",
        "\n",
        "\n",
        "-73.97228892256574, 40.76899923929354, 0], [-73.98241023013466, 40.7440763774671, 1], [-73.99616638183593, 40.74421371459961, 2], [-73.87197875976562, 40.77391242980957, 3], [-74.00516001383464, 40.72066275278727, 4]]\n",
        "[-73.98336029052734, 40.76093673706055], [-73.98171997070312, 40.73666763305664], [-73.99431610107422, 40.75107192993164], [-73.98236083984375, 40.77389144897461], [-73.98710632324219, 40.73317337036133]]"
      ],
      "execution_count": null,
      "outputs": []
    },
    {
      "cell_type": "code",
      "metadata": {
        "id": "QwmJNpqWuRF-",
        "colab": {
          "base_uri": "https://localhost:8080/",
          "height": 55
        },
        "outputId": "5a904cda-2e7d-40a8-b483-6a1af9568314"
      },
      "source": [
        "# KMeans + MapReduce\n",
        "import random\n",
        "\n",
        "\n",
        "center = []\n",
        "count = 0\n",
        "while len(center) < 15:\n",
        "  index = random.randint(0, len(taxifile)-1)\n",
        "  if taxifile.loc[index][2] != 0 and taxifile.loc[index][3] != 0:\n",
        "    center.append([taxifile.loc[index][2], taxifile.loc[index][3], count])\n",
        "    count+=1\n",
        "  \n",
        "print(center)\n",
        "# locationclass = {i:[100000, 0] for i in range(len(taxifile))}\n",
        "# print(len(locationclass))\n",
        "# for i in taxifile.values.tolist():\n",
        "#   print(i)\n",
        "#   input(1)"
      ],
      "execution_count": null,
      "outputs": [
        {
          "output_type": "stream",
          "text": [
            "[[-73.98863983154298, 40.7526741027832, 0], [-73.9797134399414, 40.734779357910156, 1], [-73.9527587890625, 40.78915023803711, 2], [-73.9515151977539, 40.77379608154297, 3], [-73.99650573730467, 40.74786758422852, 4], [-73.98477935791014, 40.76241302490234, 5], [-73.99031066894531, 40.73508071899415, 6], [-73.97435760498048, 40.76359558105469, 7], [-74.00823974609375, 40.71357727050781, 8], [-73.98603057861328, 40.767372131347656, 9], [-73.98297119140625, 40.77014923095703, 10], [-73.99880981445312, 40.76118087768555, 11], [-73.99362182617188, 40.702537536621094, 12], [-73.97762298583984, 40.75188827514648, 13], [-74.01760101318358, 40.70676040649415, 14]]\n"
          ],
          "name": "stdout"
        }
      ]
    },
    {
      "cell_type": "code",
      "metadata": {
        "id": "cnfg6DmzUwms",
        "colab": {
          "base_uri": "https://localhost:8080/",
          "height": 399
        },
        "outputId": "553bfc2d-f0ba-4f64-cfe5-c2b52e41355e"
      },
      "source": [
        "# KMeans + MapReduce V2\n",
        "\n",
        "import matplotlib.pyplot as plt \n",
        "import time\n",
        "\n",
        "a = time.time()\n",
        "\n",
        "def Euclidean_distance(x, y, length):\n",
        "  max = [0, 1000000]\n",
        "  if x[0] == 0 or x[1] == 0:\n",
        "    return [(('x', 0), 0), (('y', 0), 0), (('xy', 0), 0)]\n",
        "  for i in range(len(y)):\n",
        "    distance = pow((x[0] - y[i][0]), 2) + pow((x[1] - y[i][1]), 2)\n",
        "    if distance < max[1]:\n",
        "      max[1] = distance\n",
        "      max[0] = i\n",
        "  length[max[0]] += 1\n",
        "  return [(('x', max[0]), x[0]), (('y', max[0]), x[1]), (('xy', max[0]), 1)]\n",
        "\n",
        "# def Euclidean_distance(x, y):\n",
        "#   maxarray = [0, 1000000]\n",
        "#   if x[0] == 0 or x[1] == 0:\n",
        "#     return [(('x', 0), 0), (('y', 0), 0), (('xy', 0), 0)]\n",
        "  \n",
        "#   maxarray[0] = y.map(lambda row: (row[2], pow((x[0] - row[0]), 2) + pow((x[1] - row[1]), 2))).reduce(lambda a, b: a if a < b else b)\n",
        "#   return [(('x', maxarray[0]), x[0]), (('y', maxarray[0]), x[1]), (('xy', maxarray[0]), 1)]\n",
        "\n",
        "\n",
        "def locationclustering(locationlist, i, k):\n",
        "  max = [100000, 0]\n",
        "  max = min(locationlist)\n",
        "  return max[1]\n",
        "\n",
        "def KMeans(k, data, center, colmap):\n",
        "  fig = plt.figure() \n",
        "  color = ['k' for i in range(len(data))]\n",
        "  tempcenter = [[0, 0, i] for i in range(k)]\n",
        "  rdd = sc.parallelize(data.loc[:, ['pickup_longitude', 'pickup_latitude']].values.tolist())\n",
        "  while(tempcenter != center):\n",
        "    \n",
        "    for i in range(len(center)):\n",
        "      for j in range(len(center[i])):\n",
        "        tempcenter[i][j] = center[i][j]\n",
        "    length = [0 for i in range(k)]\n",
        "    # rddloc = sc.parallelize(center)\n",
        "    locationclass = rdd.flatMap(lambda x: Euclidean_distance(x, center, length)).reduceByKey(lambda a, b: a + b).collect()\n",
        "    print(len(locationclass))\n",
        "    input()\n",
        "    center = [[0, 0, i] for i in range(k)]\n",
        "    for i in range(0, len(locationclass), 3):\n",
        "      if locationclass[i + 2][1] == 0:\n",
        "        continue\n",
        "      center[locationclass[i][0][1]][0] = locationclass[i][1] / locationclass[i + 2][1]\n",
        "      center[locationclass[i][0][1]][1] = locationclass[i+1][1] / locationclass[i + 2][1]\n",
        "    print(center)\n",
        "  return length\n",
        "    \n",
        "  print(center)\n",
        "colmap = {0:'r', 1:'g', 2:'b', 3:'#b4b21f', 4:'m'}\n",
        "print(KMeans(3, taxifile, center, colmap))\n",
        "print(\"Total：{} seconds\".format(time.time() - a))\n",
        "      "
      ],
      "execution_count": null,
      "outputs": [
        {
          "output_type": "error",
          "ename": "KeyboardInterrupt",
          "evalue": "ignored",
          "traceback": [
            "\u001b[0;31m---------------------------------------------------------------------------\u001b[0m",
            "\u001b[0;31mKeyboardInterrupt\u001b[0m                         Traceback (most recent call last)",
            "\u001b[0;32m<ipython-input-11-846ea7e81014>\u001b[0m in \u001b[0;36m<module>\u001b[0;34m()\u001b[0m\n\u001b[1;32m     58\u001b[0m   \u001b[0mprint\u001b[0m\u001b[0;34m(\u001b[0m\u001b[0mcenter\u001b[0m\u001b[0;34m)\u001b[0m\u001b[0;34m\u001b[0m\u001b[0;34m\u001b[0m\u001b[0m\n\u001b[1;32m     59\u001b[0m \u001b[0mcolmap\u001b[0m \u001b[0;34m=\u001b[0m \u001b[0;34m{\u001b[0m\u001b[0;36m0\u001b[0m\u001b[0;34m:\u001b[0m\u001b[0;34m'r'\u001b[0m\u001b[0;34m,\u001b[0m \u001b[0;36m1\u001b[0m\u001b[0;34m:\u001b[0m\u001b[0;34m'g'\u001b[0m\u001b[0;34m,\u001b[0m \u001b[0;36m2\u001b[0m\u001b[0;34m:\u001b[0m\u001b[0;34m'b'\u001b[0m\u001b[0;34m,\u001b[0m \u001b[0;36m3\u001b[0m\u001b[0;34m:\u001b[0m\u001b[0;34m'#b4b21f'\u001b[0m\u001b[0;34m,\u001b[0m \u001b[0;36m4\u001b[0m\u001b[0;34m:\u001b[0m\u001b[0;34m'm'\u001b[0m\u001b[0;34m}\u001b[0m\u001b[0;34m\u001b[0m\u001b[0;34m\u001b[0m\u001b[0m\n\u001b[0;32m---> 60\u001b[0;31m \u001b[0mprint\u001b[0m\u001b[0;34m(\u001b[0m\u001b[0mKMeans\u001b[0m\u001b[0;34m(\u001b[0m\u001b[0;36m3\u001b[0m\u001b[0;34m,\u001b[0m \u001b[0mtaxifile\u001b[0m\u001b[0;34m,\u001b[0m \u001b[0mcenter\u001b[0m\u001b[0;34m,\u001b[0m \u001b[0mcolmap\u001b[0m\u001b[0;34m)\u001b[0m\u001b[0;34m)\u001b[0m\u001b[0;34m\u001b[0m\u001b[0;34m\u001b[0m\u001b[0m\n\u001b[0m\u001b[1;32m     61\u001b[0m \u001b[0mprint\u001b[0m\u001b[0;34m(\u001b[0m\u001b[0;34m\"Total：{} seconds\"\u001b[0m\u001b[0;34m.\u001b[0m\u001b[0mformat\u001b[0m\u001b[0;34m(\u001b[0m\u001b[0mtime\u001b[0m\u001b[0;34m.\u001b[0m\u001b[0mtime\u001b[0m\u001b[0;34m(\u001b[0m\u001b[0;34m)\u001b[0m \u001b[0;34m-\u001b[0m \u001b[0ma\u001b[0m\u001b[0;34m)\u001b[0m\u001b[0;34m)\u001b[0m\u001b[0;34m\u001b[0m\u001b[0;34m\u001b[0m\u001b[0m\n\u001b[1;32m     62\u001b[0m \u001b[0;34m\u001b[0m\u001b[0m\n",
            "\u001b[0;32m<ipython-input-11-846ea7e81014>\u001b[0m in \u001b[0;36mKMeans\u001b[0;34m(k, data, center, colmap)\u001b[0m\n\u001b[1;32m     44\u001b[0m     \u001b[0mlength\u001b[0m \u001b[0;34m=\u001b[0m \u001b[0;34m[\u001b[0m\u001b[0;36m0\u001b[0m \u001b[0;32mfor\u001b[0m \u001b[0mi\u001b[0m \u001b[0;32min\u001b[0m \u001b[0mrange\u001b[0m\u001b[0;34m(\u001b[0m\u001b[0mk\u001b[0m\u001b[0;34m)\u001b[0m\u001b[0;34m]\u001b[0m\u001b[0;34m\u001b[0m\u001b[0;34m\u001b[0m\u001b[0m\n\u001b[1;32m     45\u001b[0m     \u001b[0;31m# rddloc = sc.parallelize(center)\u001b[0m\u001b[0;34m\u001b[0m\u001b[0;34m\u001b[0m\u001b[0;34m\u001b[0m\u001b[0m\n\u001b[0;32m---> 46\u001b[0;31m     \u001b[0mlocationclass\u001b[0m \u001b[0;34m=\u001b[0m \u001b[0mrdd\u001b[0m\u001b[0;34m.\u001b[0m\u001b[0mflatMap\u001b[0m\u001b[0;34m(\u001b[0m\u001b[0;32mlambda\u001b[0m \u001b[0mx\u001b[0m\u001b[0;34m:\u001b[0m \u001b[0mEuclidean_distance\u001b[0m\u001b[0;34m(\u001b[0m\u001b[0mx\u001b[0m\u001b[0;34m,\u001b[0m \u001b[0mcenter\u001b[0m\u001b[0;34m,\u001b[0m \u001b[0mlength\u001b[0m\u001b[0;34m)\u001b[0m\u001b[0;34m)\u001b[0m\u001b[0;34m.\u001b[0m\u001b[0mreduceByKey\u001b[0m\u001b[0;34m(\u001b[0m\u001b[0;32mlambda\u001b[0m \u001b[0ma\u001b[0m\u001b[0;34m,\u001b[0m \u001b[0mb\u001b[0m\u001b[0;34m:\u001b[0m \u001b[0ma\u001b[0m \u001b[0;34m+\u001b[0m \u001b[0mb\u001b[0m\u001b[0;34m)\u001b[0m\u001b[0;34m.\u001b[0m\u001b[0mcollect\u001b[0m\u001b[0;34m(\u001b[0m\u001b[0;34m)\u001b[0m\u001b[0;34m\u001b[0m\u001b[0;34m\u001b[0m\u001b[0m\n\u001b[0m\u001b[1;32m     47\u001b[0m     \u001b[0mprint\u001b[0m\u001b[0;34m(\u001b[0m\u001b[0mlen\u001b[0m\u001b[0;34m(\u001b[0m\u001b[0mlocationclass\u001b[0m\u001b[0;34m)\u001b[0m\u001b[0;34m)\u001b[0m\u001b[0;34m\u001b[0m\u001b[0;34m\u001b[0m\u001b[0m\n\u001b[1;32m     48\u001b[0m     \u001b[0minput\u001b[0m\u001b[0;34m(\u001b[0m\u001b[0;34m)\u001b[0m\u001b[0;34m\u001b[0m\u001b[0;34m\u001b[0m\u001b[0m\n",
            "\u001b[0;32m/usr/local/lib/python3.6/dist-packages/pyspark/rdd.py\u001b[0m in \u001b[0;36mcollect\u001b[0;34m(self)\u001b[0m\n\u001b[1;32m    887\u001b[0m         \"\"\"\n\u001b[1;32m    888\u001b[0m         \u001b[0;32mwith\u001b[0m \u001b[0mSCCallSiteSync\u001b[0m\u001b[0;34m(\u001b[0m\u001b[0mself\u001b[0m\u001b[0;34m.\u001b[0m\u001b[0mcontext\u001b[0m\u001b[0;34m)\u001b[0m \u001b[0;32mas\u001b[0m \u001b[0mcss\u001b[0m\u001b[0;34m:\u001b[0m\u001b[0;34m\u001b[0m\u001b[0;34m\u001b[0m\u001b[0m\n\u001b[0;32m--> 889\u001b[0;31m             \u001b[0msock_info\u001b[0m \u001b[0;34m=\u001b[0m \u001b[0mself\u001b[0m\u001b[0;34m.\u001b[0m\u001b[0mctx\u001b[0m\u001b[0;34m.\u001b[0m\u001b[0m_jvm\u001b[0m\u001b[0;34m.\u001b[0m\u001b[0mPythonRDD\u001b[0m\u001b[0;34m.\u001b[0m\u001b[0mcollectAndServe\u001b[0m\u001b[0;34m(\u001b[0m\u001b[0mself\u001b[0m\u001b[0;34m.\u001b[0m\u001b[0m_jrdd\u001b[0m\u001b[0;34m.\u001b[0m\u001b[0mrdd\u001b[0m\u001b[0;34m(\u001b[0m\u001b[0;34m)\u001b[0m\u001b[0;34m)\u001b[0m\u001b[0;34m\u001b[0m\u001b[0;34m\u001b[0m\u001b[0m\n\u001b[0m\u001b[1;32m    890\u001b[0m         \u001b[0;32mreturn\u001b[0m \u001b[0mlist\u001b[0m\u001b[0;34m(\u001b[0m\u001b[0m_load_from_socket\u001b[0m\u001b[0;34m(\u001b[0m\u001b[0msock_info\u001b[0m\u001b[0;34m,\u001b[0m \u001b[0mself\u001b[0m\u001b[0;34m.\u001b[0m\u001b[0m_jrdd_deserializer\u001b[0m\u001b[0;34m)\u001b[0m\u001b[0;34m)\u001b[0m\u001b[0;34m\u001b[0m\u001b[0;34m\u001b[0m\u001b[0m\n\u001b[1;32m    891\u001b[0m \u001b[0;34m\u001b[0m\u001b[0m\n",
            "\u001b[0;32m/usr/local/lib/python3.6/dist-packages/py4j/java_gateway.py\u001b[0m in \u001b[0;36m__call__\u001b[0;34m(self, *args)\u001b[0m\n\u001b[1;32m   1301\u001b[0m             \u001b[0mproto\u001b[0m\u001b[0;34m.\u001b[0m\u001b[0mEND_COMMAND_PART\u001b[0m\u001b[0;34m\u001b[0m\u001b[0;34m\u001b[0m\u001b[0m\n\u001b[1;32m   1302\u001b[0m \u001b[0;34m\u001b[0m\u001b[0m\n\u001b[0;32m-> 1303\u001b[0;31m         \u001b[0manswer\u001b[0m \u001b[0;34m=\u001b[0m \u001b[0mself\u001b[0m\u001b[0;34m.\u001b[0m\u001b[0mgateway_client\u001b[0m\u001b[0;34m.\u001b[0m\u001b[0msend_command\u001b[0m\u001b[0;34m(\u001b[0m\u001b[0mcommand\u001b[0m\u001b[0;34m)\u001b[0m\u001b[0;34m\u001b[0m\u001b[0;34m\u001b[0m\u001b[0m\n\u001b[0m\u001b[1;32m   1304\u001b[0m         return_value = get_return_value(\n\u001b[1;32m   1305\u001b[0m             answer, self.gateway_client, self.target_id, self.name)\n",
            "\u001b[0;32m/usr/local/lib/python3.6/dist-packages/py4j/java_gateway.py\u001b[0m in \u001b[0;36msend_command\u001b[0;34m(self, command, retry, binary)\u001b[0m\n\u001b[1;32m   1031\u001b[0m         \u001b[0mconnection\u001b[0m \u001b[0;34m=\u001b[0m \u001b[0mself\u001b[0m\u001b[0;34m.\u001b[0m\u001b[0m_get_connection\u001b[0m\u001b[0;34m(\u001b[0m\u001b[0;34m)\u001b[0m\u001b[0;34m\u001b[0m\u001b[0;34m\u001b[0m\u001b[0m\n\u001b[1;32m   1032\u001b[0m         \u001b[0;32mtry\u001b[0m\u001b[0;34m:\u001b[0m\u001b[0;34m\u001b[0m\u001b[0;34m\u001b[0m\u001b[0m\n\u001b[0;32m-> 1033\u001b[0;31m             \u001b[0mresponse\u001b[0m \u001b[0;34m=\u001b[0m \u001b[0mconnection\u001b[0m\u001b[0;34m.\u001b[0m\u001b[0msend_command\u001b[0m\u001b[0;34m(\u001b[0m\u001b[0mcommand\u001b[0m\u001b[0;34m)\u001b[0m\u001b[0;34m\u001b[0m\u001b[0;34m\u001b[0m\u001b[0m\n\u001b[0m\u001b[1;32m   1034\u001b[0m             \u001b[0;32mif\u001b[0m \u001b[0mbinary\u001b[0m\u001b[0;34m:\u001b[0m\u001b[0;34m\u001b[0m\u001b[0;34m\u001b[0m\u001b[0m\n\u001b[1;32m   1035\u001b[0m                 \u001b[0;32mreturn\u001b[0m \u001b[0mresponse\u001b[0m\u001b[0;34m,\u001b[0m \u001b[0mself\u001b[0m\u001b[0;34m.\u001b[0m\u001b[0m_create_connection_guard\u001b[0m\u001b[0;34m(\u001b[0m\u001b[0mconnection\u001b[0m\u001b[0;34m)\u001b[0m\u001b[0;34m\u001b[0m\u001b[0;34m\u001b[0m\u001b[0m\n",
            "\u001b[0;32m/usr/local/lib/python3.6/dist-packages/py4j/java_gateway.py\u001b[0m in \u001b[0;36msend_command\u001b[0;34m(self, command)\u001b[0m\n\u001b[1;32m   1198\u001b[0m \u001b[0;34m\u001b[0m\u001b[0m\n\u001b[1;32m   1199\u001b[0m         \u001b[0;32mtry\u001b[0m\u001b[0;34m:\u001b[0m\u001b[0;34m\u001b[0m\u001b[0;34m\u001b[0m\u001b[0m\n\u001b[0;32m-> 1200\u001b[0;31m             \u001b[0manswer\u001b[0m \u001b[0;34m=\u001b[0m \u001b[0msmart_decode\u001b[0m\u001b[0;34m(\u001b[0m\u001b[0mself\u001b[0m\u001b[0;34m.\u001b[0m\u001b[0mstream\u001b[0m\u001b[0;34m.\u001b[0m\u001b[0mreadline\u001b[0m\u001b[0;34m(\u001b[0m\u001b[0;34m)\u001b[0m\u001b[0;34m[\u001b[0m\u001b[0;34m:\u001b[0m\u001b[0;34m-\u001b[0m\u001b[0;36m1\u001b[0m\u001b[0;34m]\u001b[0m\u001b[0;34m)\u001b[0m\u001b[0;34m\u001b[0m\u001b[0;34m\u001b[0m\u001b[0m\n\u001b[0m\u001b[1;32m   1201\u001b[0m             \u001b[0mlogger\u001b[0m\u001b[0;34m.\u001b[0m\u001b[0mdebug\u001b[0m\u001b[0;34m(\u001b[0m\u001b[0;34m\"Answer received: {0}\"\u001b[0m\u001b[0;34m.\u001b[0m\u001b[0mformat\u001b[0m\u001b[0;34m(\u001b[0m\u001b[0manswer\u001b[0m\u001b[0;34m)\u001b[0m\u001b[0;34m)\u001b[0m\u001b[0;34m\u001b[0m\u001b[0;34m\u001b[0m\u001b[0m\n\u001b[1;32m   1202\u001b[0m             \u001b[0;32mif\u001b[0m \u001b[0manswer\u001b[0m\u001b[0;34m.\u001b[0m\u001b[0mstartswith\u001b[0m\u001b[0;34m(\u001b[0m\u001b[0mproto\u001b[0m\u001b[0;34m.\u001b[0m\u001b[0mRETURN_MESSAGE\u001b[0m\u001b[0;34m)\u001b[0m\u001b[0;34m:\u001b[0m\u001b[0;34m\u001b[0m\u001b[0;34m\u001b[0m\u001b[0m\n",
            "\u001b[0;32m/usr/lib/python3.6/socket.py\u001b[0m in \u001b[0;36mreadinto\u001b[0;34m(self, b)\u001b[0m\n\u001b[1;32m    584\u001b[0m         \u001b[0;32mwhile\u001b[0m \u001b[0;32mTrue\u001b[0m\u001b[0;34m:\u001b[0m\u001b[0;34m\u001b[0m\u001b[0;34m\u001b[0m\u001b[0m\n\u001b[1;32m    585\u001b[0m             \u001b[0;32mtry\u001b[0m\u001b[0;34m:\u001b[0m\u001b[0;34m\u001b[0m\u001b[0;34m\u001b[0m\u001b[0m\n\u001b[0;32m--> 586\u001b[0;31m                 \u001b[0;32mreturn\u001b[0m \u001b[0mself\u001b[0m\u001b[0;34m.\u001b[0m\u001b[0m_sock\u001b[0m\u001b[0;34m.\u001b[0m\u001b[0mrecv_into\u001b[0m\u001b[0;34m(\u001b[0m\u001b[0mb\u001b[0m\u001b[0;34m)\u001b[0m\u001b[0;34m\u001b[0m\u001b[0;34m\u001b[0m\u001b[0m\n\u001b[0m\u001b[1;32m    587\u001b[0m             \u001b[0;32mexcept\u001b[0m \u001b[0mtimeout\u001b[0m\u001b[0;34m:\u001b[0m\u001b[0;34m\u001b[0m\u001b[0;34m\u001b[0m\u001b[0m\n\u001b[1;32m    588\u001b[0m                 \u001b[0mself\u001b[0m\u001b[0;34m.\u001b[0m\u001b[0m_timeout_occurred\u001b[0m \u001b[0;34m=\u001b[0m \u001b[0;32mTrue\u001b[0m\u001b[0;34m\u001b[0m\u001b[0;34m\u001b[0m\u001b[0m\n",
            "\u001b[0;31mKeyboardInterrupt\u001b[0m: "
          ]
        },
        {
          "output_type": "display_data",
          "data": {
            "text/plain": [
              "<Figure size 432x288 with 0 Axes>"
            ]
          },
          "metadata": {
            "tags": []
          }
        }
      ]
    },
    {
      "cell_type": "code",
      "metadata": {
        "id": "i6p6fmDjWSvK",
        "colab": {
          "base_uri": "https://localhost:8080/",
          "height": 55
        },
        "outputId": "5b32bc19-60e6-4e6f-93fa-8affe31f640f"
      },
      "source": [
        "from random import sample \n",
        "yellowtaxi = taxifile.loc[:, ['pickup_longitude', 'pickup_latitude']].values.tolist()\n",
        "print(sample(yellowtaxi,5)) "
      ],
      "execution_count": null,
      "outputs": [
        {
          "output_type": "stream",
          "text": [
            "[[-73.99453735351562, 40.740623474121094], [-73.97830963134766, 40.78797912597656], [-73.98802947998048, 40.74383544921875], [-73.97555541992188, 40.76527404785156], [-73.9842758178711, 40.77500915527344]]\n"
          ],
          "name": "stdout"
        }
      ]
    },
    {
      "cell_type": "code",
      "metadata": {
        "id": "_KgJmscFPGPk",
        "colab": {
          "base_uri": "https://localhost:8080/",
          "height": 1000
        },
        "outputId": "be48d733-f39c-4995-9f9d-fb927d597ba8"
      },
      "source": [
        "# mini_batch_KMeans + MapReduce V2\n",
        "\n",
        "import matplotlib.pyplot as plt \n",
        "import random \n",
        "import time\n",
        "\n",
        "a = time.time()\n",
        "\n",
        "def randomselectdata(yellowtaxi):\n",
        "  taxi = []\n",
        "  while len(taxi) < 800000:\n",
        "    index = random.randint(0,len(yellowtaxi) - 1)\n",
        "    if yellowtaxi[index][0] != 0 and yellowtaxi[index][1] != 0:\n",
        "      taxi.append(yellowtaxi[index])\n",
        "  return taxi\n",
        "  \n",
        "def Euclidean_distance(x, y, length):\n",
        "  max = [0, 1000000]\n",
        "  for i in range(len(y)):\n",
        "    distance = pow((x[0] - y[i][0]), 2) + pow((x[1] - y[i][1]), 2)\n",
        "    if distance < max[1]:\n",
        "      max[1] = distance\n",
        "      max[0] = i\n",
        "  return [(('x', max[0]), x[0]), (('y', max[0]), x[1]), (('xy', max[0]), 1)]\n",
        "\n",
        "\n",
        "def locationclustering(locationlist, i, k):\n",
        "  max = [100000, 0]\n",
        "  max = min(locationlist)\n",
        "  return max[1]\n",
        "\n",
        "def KMeans(k, data, center, colmap):\n",
        "  fig = plt.figure() \n",
        "  color = ['k' for i in range(len(data))]\n",
        "  tempcenter = [[0, 0, i] for i in range(k)]\n",
        "  yellowtaxi = data.loc[:, ['dropoff_longitude', 'dropoff_latitude']].values.tolist()\n",
        "  nums = 0\n",
        "  while(tempcenter != center and nums < 100):\n",
        "    for i in range(len(center)):\n",
        "      for j in range(len(center[i])):\n",
        "        if center[i][j] == 0 and j != 2:\n",
        "          break\n",
        "        else:\n",
        "          tempcenter[i][j] = center[i][j]\n",
        "    length = [0 for i in range(k)]\n",
        "    # rddloc = sc.parallelize(center)\n",
        "    selected = randomselectdata(yellowtaxi)\n",
        "    for i in selected:\n",
        "      if i[0] == 0 or i[1] == 0:\n",
        "        print(1)\n",
        "    rdd = sc.parallelize(randomselectdata(yellowtaxi))\n",
        "    locationclass = rdd.flatMap(lambda x: Euclidean_distance(x, center, length)).reduceByKey(lambda a, b: a + b).collect()\n",
        "    # center = [[0, 0, i] for i in range(k)]\n",
        "    for i in range(0, len(locationclass), 3):\n",
        "      center[locationclass[i][0][1]][0] = locationclass[i][1] / locationclass[i + 2][1]\n",
        "      center[locationclass[i][0][1]][1] = locationclass[i+1][1] / locationclass[i + 2][1]\n",
        "      length[int(i/3)] = locationclass[i + 2][1]\n",
        "    print(length)\n",
        "    # print(center)\n",
        "    nums+=1\n",
        "  print(nums, center)\n",
        "  return length\n",
        "colmap = {0:'r', 1:'g', 2:'b', 3:'#b4b21f', 4:'m'}\n",
        "print(KMeans(15, taxifile, center, colmap))\n",
        "print(\"Total：{} seconds\".format(time.time() - a))\n",
        "      "
      ],
      "execution_count": null,
      "outputs": [
        {
          "output_type": "stream",
          "text": [
            "[80173, 34249, 58741, 117483, 52390, 49739, 73875, 76916, 33116, 81622, 14892, 46629, 17326, 50490, 12359]\n",
            "[74947, 70167, 59675, 50163, 43938, 136107, 48464, 27876, 63470, 22560, 71580, 27768, 82568, 3101, 17616]\n",
            "[82487, 74780, 137556, 32158, 66602, 21101, 51231, 61141, 88065, 50723, 21851, 33474, 51833, 25030, 1968]\n",
            "[28675, 130819, 80953, 84002, 16832, 80594, 39349, 36934, 89029, 21708, 47717, 58284, 29625, 53641, 1838]\n",
            "[87760, 19801, 84174, 57304, 123995, 84903, 42685, 47259, 79048, 56484, 28127, 28649, 19331, 38636, 1844]\n",
            "[58708, 47218, 119281, 74551, 91200, 18743, 46607, 54934, 23381, 26724, 79380, 46184, 89972, 21151, 1966]\n",
            "[70623, 18739, 92133, 115685, 48499, 54691, 92888, 61174, 54111, 76204, 27127, 46269, 19787, 20179, 1891]\n",
            "[54831, 52061, 68846, 74220, 89265, 26998, 93980, 18484, 63967, 63099, 111057, 45834, 19268, 16254, 1836]\n",
            "[64940, 46588, 72570, 95043, 87360, 105401, 70169, 56376, 26941, 54022, 18611, 19126, 13710, 67341, 1802]\n",
            "[66820, 66658, 76586, 101047, 45436, 95380, 71901, 85150, 26205, 59440, 18657, 53791, 19291, 11785, 1853]\n",
            "[72354, 99255, 43613, 65820, 17864, 95219, 83736, 66795, 10437, 82733, 53409, 60923, 19511, 26387, 1944]\n",
            "[85840, 98117, 41230, 93397, 85941, 61148, 73349, 67362, 53548, 17536, 19647, 25924, 65199, 9876, 1886]\n",
            "[37968, 97609, 88271, 17629, 89291, 60898, 65208, 73427, 19453, 91123, 67584, 54216, 9148, 1860, 26315]\n",
            "[97254, 87835, 75118, 54517, 65153, 25342, 20255, 68065, 91128, 90343, 35606, 61157, 18374, 1795, 8058]\n",
            "[54410, 23582, 94601, 76494, 91732, 68126, 7414, 96061, 85628, 59518, 20621, 34432, 66021, 19612, 1748]\n",
            "[96783, 32838, 27687, 93516, 83962, 58320, 92344, 55438, 21533, 78261, 67958, 7356, 68414, 13739, 1851]\n",
            "[69391, 58137, 99291, 77771, 93359, 94554, 23705, 82615, 66380, 26480, 12074, 32299, 55537, 1789, 6618]\n",
            "[95349, 24800, 94443, 72011, 78007, 100484, 56943, 62981, 24140, 81649, 57399, 32119, 6275, 11538, 1862]\n",
            "[101807, 74328, 95657, 95569, 60649, 78568, 57870, 81112, 31550, 56515, 1845, 23431, 24004, 11477, 5618]\n",
            "[11300, 30545, 55769, 95444, 97399, 57084, 75635, 23885, 58660, 80173, 81369, 22713, 102889, 1895, 5240]\n",
            "[80769, 58333, 99621, 22600, 24061, 101514, 75487, 95183, 54901, 82519, 56587, 29965, 11379, 5215, 1866]\n",
            "[56284, 84873, 80533, 76930, 54818, 101859, 94241, 57421, 21738, 100424, 29533, 23728, 11170, 4608, 1840]\n",
            "[54317, 99208, 81161, 55249, 93902, 103343, 23811, 86907, 77233, 11229, 29155, 21505, 56756, 1777, 4447]\n",
            "[89474, 23574, 92392, 21722, 98611, 81366, 54201, 80152, 53992, 103617, 29043, 11066, 54733, 4206, 1851]\n",
            "[82098, 53474, 96839, 91810, 82266, 28386, 21711, 23578, 105127, 91886, 52513, 53112, 11133, 4177, 1890]\n",
            "[106014, 51724, 91220, 21674, 96099, 94264, 53654, 27869, 23390, 1865, 83462, 81333, 52176, 11076, 4180]\n",
            "[96828, 106259, 53269, 84733, 89908, 23425, 82893, 95632, 27227, 50608, 3886, 51168, 21207, 1850, 11107]\n",
            "[83908, 21672, 27100, 85566, 95190, 106324, 98729, 49304, 52847, 88742, 50660, 23264, 1830, 11087, 3777]\n",
            "[85828, 88409, 107073, 100601, 84447, 52743, 48247, 94176, 50326, 26407, 3835, 1851, 23154, 21696, 11207]\n",
            "[101468, 52014, 88442, 84756, 107716, 49659, 23302, 94200, 11281, 26318, 86912, 47038, 21394, 1933, 3567]\n",
            "[107538, 50797, 49829, 94254, 88190, 85362, 21461, 26040, 103979, 45008, 88197, 23175, 3269, 11087, 1814]\n",
            "[43631, 105762, 50093, 107239, 23242, 87172, 89772, 50445, 21508, 93942, 85755, 25175, 3487, 10989, 1788]\n",
            "[92610, 87173, 49504, 105690, 86281, 23115, 41370, 50060, 107182, 94145, 11198, 21424, 24910, 3341, 1997]\n",
            "[104595, 86462, 108788, 94692, 50009, 50138, 93672, 23160, 38748, 87691, 1809, 24634, 21224, 11057, 3321]\n",
            "[104138, 86361, 88353, 109613, 50083, 96820, 94321, 35729, 49859, 22735, 11487, 24215, 21319, 3123, 1844]\n",
            "[104322, 88673, 11265, 94516, 49982, 1881, 86268, 110952, 32328, 98934, 22766, 49816, 21596, 23417, 3284]\n",
            "[89142, 94835, 49984, 104484, 100038, 111434, 86504, 23335, 11107, 50281, 29810, 22609, 21378, 1856, 3203]\n",
            "[95878, 101929, 113124, 22262, 105410, 86182, 24687, 49778, 89921, 23710, 49971, 11128, 21345, 2905, 1770]\n",
            "[21386, 97003, 86811, 49725, 90253, 21420, 113219, 105856, 104023, 21005, 11321, 50073, 23250, 2854, 1801]\n",
            "[50177, 106461, 113983, 49689, 106751, 90885, 20918, 22654, 86996, 97947, 17938, 19843, 10985, 1875, 2898]\n",
            "[107358, 112687, 105996, 99701, 18038, 50820, 50408, 86212, 91638, 22558, 11050, 20789, 18291, 2596, 1858]\n",
            "[100256, 106615, 105882, 86388, 50927, 19064, 17017, 20601, 112711, 92143, 22023, 50744, 2846, 11023, 1760]\n",
            "[113321, 92464, 104906, 85922, 50820, 101138, 105432, 21724, 19869, 50522, 20684, 11178, 17185, 1854, 2981]\n",
            "[10780, 51940, 93208, 103665, 51277, 102481, 104288, 112694, 20652, 19960, 21800, 17034, 85528, 2931, 1762]\n",
            "[51796, 93205, 104214, 86079, 112743, 103301, 102494, 20234, 21711, 20545, 50802, 17094, 1817, 11065, 2900]\n",
            "[102452, 112149, 86087, 103304, 20318, 51228, 93353, 104686, 2711, 51598, 20407, 21800, 17052, 10975, 1880]\n",
            "[104234, 104050, 21679, 10983, 51711, 112021, 93140, 86153, 102220, 51604, 17119, 20200, 20367, 2665, 1854]\n",
            "[16750, 101763, 103490, 2682, 112560, 51533, 20300, 104776, 93375, 20373, 11274, 51894, 21511, 85732, 1987]\n",
            "[104422, 20699, 112484, 93975, 52004, 85680, 103946, 101732, 20169, 51008, 16725, 11056, 2639, 21540, 1921]\n",
            "[86374, 104558, 103668, 51540, 101315, 52080, 93729, 21475, 112060, 11203, 20628, 16503, 20110, 2867, 1890]\n",
            "[104123, 111535, 93860, 20609, 105116, 21448, 100829, 51735, 52122, 11256, 16578, 85649, 20252, 3036, 1852]\n",
            "[100998, 51206, 86537, 103701, 20521, 93555, 112368, 104877, 52157, 20320, 16339, 21505, 11068, 1769, 3079]\n",
            "[93757, 111502, 20827, 51302, 104602, 20377, 21699, 104278, 52346, 85565, 101379, 2894, 11201, 16446, 1825]\n",
            "[51090, 103989, 101030, 111947, 85376, 20517, 52114, 105025, 94159, 20392, 16730, 22210, 11177, 2455, 1789]\n",
            "[103491, 1802, 93858, 105754, 111969, 20305, 21540, 101133, 85708, 51615, 16488, 2409, 52237, 20505, 11186]\n",
            "[113410, 51674, 104745, 20710, 100818, 103638, 52250, 93480, 85522, 20450, 21404, 16274, 11135, 2617, 1873]\n",
            "[93721, 103743, 105202, 16492, 11112, 21380, 52390, 112695, 85251, 51338, 100940, 20498, 20774, 2570, 1894]\n",
            "[111791, 52248, 21340, 104259, 105206, 20403, 101107, 93949, 84807, 20742, 51806, 16566, 11235, 1760, 2781]\n",
            "[85020, 104332, 51580, 52099, 100581, 112783, 105303, 21138, 93502, 1889, 16508, 20819, 20647, 11058, 2741]\n",
            "[101585, 93260, 105531, 85335, 51823, 113008, 51489, 103565, 21559, 20532, 20417, 16331, 1820, 11091, 2654]\n",
            "[93074, 112594, 100986, 103985, 15883, 52332, 51543, 11212, 85524, 105548, 20558, 20394, 21689, 2888, 1790]\n",
            "[85161, 112836, 104986, 21532, 101136, 52286, 93276, 104204, 51616, 20680, 11273, 15593, 20658, 1911, 2852]\n",
            "[93654, 112445, 100737, 51728, 20822, 52439, 10853, 84667, 104328, 22079, 105162, 20794, 15483, 2870, 1939]\n",
            "[11045, 52246, 112479, 85240, 101515, 104504, 93669, 103904, 15999, 20567, 51826, 21875, 20370, 2880, 1881]\n",
            "[52063, 93516, 21768, 111963, 104954, 101853, 51427, 103906, 20555, 85383, 20591, 16181, 11119, 2709, 2012]\n",
            "[92909, 21404, 112677, 20544, 85199, 52011, 103983, 101479, 105422, 52354, 15669, 11118, 20498, 2821, 1912]\n",
            "[112885, 52491, 100969, 105287, 85158, 20454, 104199, 20575, 51575, 93306, 3049, 15794, 21267, 11109, 1882]\n",
            "[112183, 93168, 52112, 51437, 104980, 104569, 85662, 21597, 101397, 10959, 15857, 20593, 20708, 2832, 1946]\n",
            "[112563, 100943, 51528, 20528, 104729, 93145, 85307, 105055, 52506, 15693, 21394, 20857, 11047, 2798, 1907]\n",
            "[21751, 100559, 112330, 104811, 105090, 51697, 85173, 20797, 20698, 52182, 93275, 2903, 15899, 11062, 1773]\n",
            "[93347, 101314, 104289, 104866, 52301, 112629, 84948, 20692, 15920, 21770, 51413, 10937, 20923, 2818, 1833]\n",
            "[100937, 104517, 112179, 104935, 51905, 93286, 85437, 20641, 52066, 21655, 20510, 1929, 11157, 15900, 2946]\n",
            "[101702, 112376, 105151, 52289, 104389, 21006, 51779, 11124, 15987, 92806, 84626, 20493, 21457, 3017, 1798]\n",
            "[20966, 21566, 52421, 104064, 51229, 105507, 92844, 101653, 112021, 85149, 10974, 16120, 20597, 3080, 1809]\n",
            "[104505, 21704, 51329, 92943, 20557, 112529, 102094, 104871, 20496, 52042, 84936, 11118, 15946, 1812, 3118]\n",
            "[112978, 85091, 93221, 20817, 15495, 101204, 104926, 52351, 104440, 11140, 21725, 51412, 20388, 3049, 1763]\n",
            "[85816, 101477, 22248, 20693, 92880, 104377, 104666, 112519, 20854, 50991, 51854, 15675, 10959, 1885, 3106]\n",
            "[112293, 104634, 51639, 104417, 20706, 22060, 92702, 85634, 101442, 52256, 15553, 20762, 11172, 1871, 2859]\n",
            "[51677, 111845, 52876, 104740, 104734, 92982, 101859, 84916, 21080, 20577, 22291, 14904, 11072, 2643, 1804]\n",
            "[85916, 105388, 92720, 11119, 111974, 20660, 52624, 101307, 104795, 14990, 51298, 20809, 21724, 2892, 1784]\n",
            "[112779, 105143, 20731, 101834, 85068, 92992, 20790, 103974, 51432, 52550, 15017, 21808, 1867, 2806, 11209]\n",
            "[21425, 20801, 105721, 85675, 104012, 101739, 52111, 92516, 15280, 112307, 51914, 10949, 20758, 2954, 1838]\n",
            "[92752, 104707, 101432, 51529, 112247, 105295, 85370, 11152, 21765, 20677, 52306, 20762, 15220, 2923, 1863]\n",
            "[20651, 105142, 51204, 20908, 11066, 112332, 93176, 101117, 104360, 85061, 52693, 1929, 15525, 21928, 2908]\n",
            "[101127, 52119, 112042, 85753, 104912, 52583, 92815, 104152, 20727, 20644, 15353, 21839, 2886, 11200, 1848]\n",
            "[21535, 92860, 86013, 21448, 51484, 105211, 104337, 101207, 52520, 111884, 21008, 2968, 10977, 14655, 1893]\n",
            "[86286, 51644, 20650, 93329, 52300, 103903, 112224, 105266, 14659, 101248, 21659, 3243, 20639, 11072, 1878]\n",
            "[92996, 101531, 53140, 51189, 14089, 112280, 104822, 86128, 104019, 21500, 20808, 21163, 1860, 11339, 3136]\n",
            "[104193, 86054, 21025, 51600, 52345, 111726, 92868, 101706, 105106, 14476, 20512, 22044, 1917, 3116, 11312]\n",
            "[86220, 51336, 93335, 103475, 101312, 112177, 52181, 14166, 105699, 20796, 21207, 22155, 1753, 11191, 2997]\n",
            "[51413, 112394, 103851, 20679, 52862, 93188, 105099, 86546, 22150, 101648, 13267, 11162, 21092, 2815, 1834]\n",
            "[105236, 86082, 51598, 104223, 111941, 101994, 13968, 52349, 93558, 20487, 21841, 20825, 2864, 1890, 11144]\n",
            "[85990, 104267, 93546, 112203, 101852, 21141, 52053, 104508, 20917, 51813, 1821, 14132, 11243, 21825, 2689]\n",
            "[20712, 86696, 103278, 101759, 51939, 52281, 92883, 21860, 112752, 104767, 14264, 20818, 11253, 1883, 2855]\n",
            "[86742, 93489, 104926, 111291, 101713, 103900, 21240, 52646, 21706, 52029, 20443, 14015, 11174, 2853, 1833]\n",
            "[111543, 51886, 105409, 52388, 92779, 103678, 13847, 102054, 87081, 21212, 21788, 20549, 2854, 11125, 1807]\n",
            "[111674, 51813, 101936, 93450, 86907, 21863, 20801, 103884, 105294, 51287, 14497, 2683, 11170, 20834, 1907]\n",
            "[105013, 92686, 112048, 86629, 104029, 102574, 51554, 14491, 52200, 20648, 20609, 21894, 11074, 2766, 1785]\n",
            "[86959, 104915, 93326, 20781, 52369, 103795, 51575, 111901, 101524, 21288, 20794, 14656, 11278, 2966, 1873]\n",
            "[93123, 22067, 103955, 20575, 111943, 105086, 100659, 87175, 51604, 11153, 52516, 14790, 1820, 20506, 3028]\n",
            "100 [[-73.99732644093638, 40.74738465548078, 0], [-73.87072827945532, 40.759782456100645, 1], [-73.8629086820736, 40.88522368094723, 2], [-73.7792999820304, 40.6597316851052, 3], [-73.9927559033461, 40.728088002738346, 4], [-73.96542592311481, 40.76278102814088, 5], [-73.9443874076389, 40.70329781755932, 6], [-73.94993702482897, 40.77794845419146, 7], [-74.00719250389841, 40.70933591486867, 8], [-73.97146846604767, 40.79150098645866, 9], [-73.94008480719761, 40.82483977293047, 10], [-73.98405343720337, 40.7655061496701, 11], [-73.9779028943457, 40.65892273372214, 12], [-73.97918523793547, 40.748202990079065, 13], [-74.24557108197894, 40.682996368408205, 14]]\n",
            "[93123, 22067, 103955, 20575, 111943, 105086, 100659, 87175, 51604, 11153, 52516, 14790, 1820, 20506, 3028]\n",
            "Total：1376.144784450531 seconds\n"
          ],
          "name": "stdout"
        },
        {
          "output_type": "display_data",
          "data": {
            "text/plain": [
              "<Figure size 432x288 with 0 Axes>"
            ]
          },
          "metadata": {
            "tags": []
          }
        }
      ]
    },
    {
      "cell_type": "code",
      "metadata": {
        "id": "VM5jYXwt3kKI"
      },
      "source": [
        "93123, 22067, 103955, 20575, 111943, 105086, 100659, 87175, 51604, 11153, 52516, 14790, 1820, 20506, 3028"
      ],
      "execution_count": null,
      "outputs": []
    },
    {
      "cell_type": "markdown",
      "metadata": {
        "id": "KrO1Q4a6uFp3"
      },
      "source": [
        "[-73.99732644093638, 40.74738465548078, 0[68]], \n",
        "[-73.8629086820736, 40.88522368094723, 2[237]], \n",
        "[-73.9927559033461, 40.728088002738346, 4[79]], \n",
        "[-73.96542592311481, 40.76278102814088, 5[141]], \n",
        "[-73.9443874076389, 40.70329781755932, 6], \n",
        "[-73.94993702482897, 40.77794845419146, 7[80]], "
      ]
    },
    {
      "cell_type": "code",
      "metadata": {
        "id": "KagP80lfehCE",
        "colab": {
          "base_uri": "https://localhost:8080/",
          "height": 382
        },
        "outputId": "41896819-012c-4788-d000-d3539771ee7b"
      },
      "source": [
        "import time\n",
        "import matplotlib as mpl\n",
        "mpl.use('Agg')\n",
        "import matplotlib.pyplot as plt\n",
        "import matplotlib.gridspec as gridspec\n",
        "import numpy as np\n",
        "from scipy.cluster.hierarchy import leaves_list, is_valid_linkage\n",
        "from scipy.spatial.distance import squareform, is_valid_y, is_valid_dm\n",
        "from scipy.spatial.distance import pdist, squareform\n",
        "from scipy.cluster.hierarchy import leaves_list, dendrogram\n",
        "\n",
        "try:\n",
        "    from fastcluster import linkage\n",
        "except ImportError:\n",
        "    from scipy.cluster.hierarchy import linkage\n",
        "\n",
        "\n",
        "def get_cell_data(n=50, seed=0):\n",
        "    np.random.seed(seed)\n",
        "    cells_data = np.load('./data/cells_data.npy')\n",
        "\n",
        "    sample_cells = np.random.choice(cells_data.shape[0], n, replace=False)\n",
        "\n",
        "    D = pdist(cells_data[sample_cells, :], 'euclidean')\n",
        "    Z = linkage(D, 'ward')\n",
        "\n",
        "    return cells_data, Z, D\n",
        "\n",
        "def get_random_data(n=50, seed=0):\n",
        "\n",
        "    np.random.seed(seed)\n",
        "    data = np.random.choice(10000, (n, 1), replace=False)\n",
        "    D = pdist(data, 'euclidean')\n",
        "    Z = linkage(D, 'ward')\n",
        "    return data, Z, D\n",
        "\n",
        "def optimal_leaf_ordering(Z, D):\n",
        "    \"\"\"\n",
        "    Compute the optimal leaf order for Z (according to D)\n",
        "    and return an optimally sorted Z. \n",
        "    We start by sorting and relabelling Z and D according to the\n",
        "    current leaf order in Z.\n",
        "    \n",
        "    This is because when everything is sorted each cluster (including singletons)\n",
        "    can be defined by its range over (0...n_points).\n",
        "    This is used extensively loop efficiently over the various arrays in the algorithm.\n",
        "    \"\"\"\n",
        "    if not is_valid_linkage(Z):\n",
        "        raise(\"Not a valid linkage map. \")\n",
        "    \n",
        "    if is_valid_y(D):\n",
        "        sorted_D = squareform(D)\n",
        "    elif is_valid_dm(D):\n",
        "        sorted_D = D\n",
        "        pass\n",
        "    else:\n",
        "        raise(\"Not a valid distance matrix (neither condensed nor square forms)\")\n",
        "\n",
        "    n_points = Z.shape[0] + 1\n",
        "    n_clusters = 2*n_points - 1\n",
        "\n",
        "    # Get the current linear ordering\n",
        "    sorted_leaves = leaves_list(Z)\n",
        "\n",
        "    # Create map from original order to sorted order.\n",
        "    original_order_to_sorted_order = dict((orig_i, sorted_i) for sorted_i, orig_i in enumerate(sorted_leaves))\n",
        "\n",
        "\n",
        "    # Re-write linkage map so it refers to sorted positions, rather than input positions\n",
        "    # Remove the 'height' column so we can cast the whole thing as integer and simplify passing to C function above.\n",
        "    sorted_Z = []\n",
        "    for (v_l, v_r, _, v_size) in Z:\n",
        "        if v_l < n_points:\n",
        "            v_l = original_order_to_sorted_order[int(v_l)]\n",
        "        if v_r < n_points:\n",
        "            v_r = original_order_to_sorted_order[int(v_r)]\n",
        "        \n",
        "        sorted_Z.append([v_l, v_r, v_size])\n",
        "    sorted_Z = np.array(sorted_Z).astype(np.int32).copy(order='C')\n",
        "\n",
        "\n",
        "    # Sort distance matrix D by the leaf order\n",
        "    sorted_D = sorted_D[sorted_leaves, :]\n",
        "    sorted_D = sorted_D[:, sorted_leaves].copy(order='C')\n",
        "\n",
        "    # Defines the range of each cluster over (0... n_points) as explained above. \n",
        "    cluster_ranges = np.zeros((n_clusters, 2))\n",
        "    cluster_ranges[np.arange(n_points), 0] = np.arange(n_points)\n",
        "    cluster_ranges[np.arange(n_points), 1] = np.arange(n_points) + 1\n",
        "    for link_i, (v_l, v_r, v_size) in enumerate(sorted_Z):\n",
        "        v = link_i + n_points\n",
        "        cluster_ranges[v, 0] = cluster_ranges[v_l, 0]\n",
        "        cluster_ranges[v, 1] = cluster_ranges[v_r, 1]\n",
        "    cluster_ranges = cluster_ranges.astype(np.int32).copy(order='C')\n",
        "\n",
        "    # Get Swaps \n",
        "    must_swap = identify_swaps(sorted_Z, sorted_D, cluster_ranges)\n",
        "\n",
        "\n",
        "    \"\"\"\n",
        "    To 'rotate' around the axis of a node, we need to the left-right children\n",
        "    of every descendant of this target node.\n",
        "    \n",
        "    Do so efficiently, we record how many total times a given node must be swapped\n",
        "    (once if it needs to be swapped itself, once for each parent that needs to be swapped) \n",
        "    and take modulo 2 to find wether it needs to be swapped at all. \n",
        "    \"\"\"\n",
        "\n",
        "    is_cluster_descendant = np.zeros((n_clusters - n_points, n_clusters - n_points), dtype=int)\n",
        "    for i, (v_l, v_r, v_size) in enumerate(sorted_Z):\n",
        "        is_cluster_descendant[i, i] = 1\n",
        "        if v_l >= n_points:\n",
        "            is_cluster_descendant[i, v_l - n_points] = 1\n",
        "            is_cluster_descendant[i, :] += is_cluster_descendant[v_l - n_points, :]\n",
        "        if v_r >= n_points:\n",
        "            is_cluster_descendant[i, v_r - n_points] = 1\n",
        "            is_cluster_descendant[i, :] += is_cluster_descendant[v_r - n_points, :]\n",
        "\n",
        "\n",
        "    # To \"rotate\" a tree node, we need to 'swap' it's left-right children, and do the same do all it's children. \n",
        "    applied_swap = np.array(is_cluster_descendant).astype(bool) * np.array(must_swap).reshape(-1, 1)\n",
        "    final_swap = applied_swap.sum(axis=0) % 2\n",
        "\n",
        "    # Create a new linkage matrix by applying swaps where needed. \n",
        "    swapped_Z = []\n",
        "    for i, (in_l, in_r, h, v_size) in enumerate(Z):\n",
        "        if final_swap[i]:\n",
        "            out_l = in_r\n",
        "            out_r = in_l\n",
        "        else:\n",
        "            out_r = in_r\n",
        "            out_l = in_l   \n",
        "        swapped_Z.append((out_l, out_r, h, v_size))\n",
        "    swapped_Z = np.array(swapped_Z)\n",
        "\n",
        "    return swapped_Z\n",
        "\n",
        "def run_polo(Z, D):\n",
        "    # from polo import optimal_leaf_ordering\n",
        "\n",
        "    start_time = time.time()\n",
        "    best_Z = optimal_leaf_ordering(Z, D)\n",
        "    end_time = time.time()\n",
        "    return end_time - start_time, best_Z\n",
        "\n",
        "\n",
        "def run_orange3(Z, D):\n",
        "    import Orange.clustering.hierarchical as orange_hier\n",
        "\n",
        "    tree = orange_hier.tree_from_linkage(Z)\n",
        "    start_time = time.time()\n",
        "    orange_hier.optimal_leaf_ordering(tree, squareform(D))\n",
        "    end_time = time.time()\n",
        "    return end_time - start_time, None\n",
        "\n",
        "\n",
        "def benchmark():\n",
        "    random_data = []\n",
        "    for n in range(4, 12):\n",
        "        for i in range(3):\n",
        "            data, z, d = get_random_data(2**n, i)\n",
        "            polo_time, _ = run_polo(z, d)\n",
        "            print(n, i, polo_time)\n",
        "            random_data.append([n, i, polo_time])\n",
        "    np.save('./data/random_data_benchmark.npy', np.array(random_data))\n",
        "\n",
        "    cells_data = []\n",
        "    for n in range(4, 13):\n",
        "        for i in range(3):\n",
        "            data, z, d = get_cell_data(2**n, i)\n",
        "            polo_time, _ = run_polo(z, d)\n",
        "            print(n, i, polo_time)\n",
        "            cells_data.append([n, i, polo_time])\n",
        "    np.save('./data/real_data_benchmark.npy', np.array(cells_data))\n",
        "    \n",
        "    orange_data = []\n",
        "    for n in range(4, 12):\n",
        "        for i in range(3):\n",
        "            data, z, d = get_cell_data(2**n, i)\n",
        "            oj_time, _ = run_orange3(z, d)\n",
        "            print(n, i, oj_time)\n",
        "            orange_data.append([n, i, oj_time])\n",
        "    np.save('./data/real_data_orange3_benchmark.npy', np.array(orange_data))\n",
        "\n",
        "def make_benchmark_figure():\n",
        "\n",
        "    fig = plt.figure(figsize=(6,6))\n",
        "    ax = fig.add_subplot(1, 1, 1, xscale='linear', yscale='log')\n",
        "\n",
        "\n",
        "    d1 = np.load('./data/random_data_benchmark.npy')\n",
        "    d2 = np.load('./data/real_data_benchmark.npy')\n",
        "    d3 = np.load('./data/real_data_orange3_benchmark.npy')\n",
        "\n",
        "    ax.scatter(d1[:24, 0], d1[:24, 2], c='r', edgecolor='none', label='Random Data (Polo)')\n",
        "    ax.scatter(d2[:24, 0], d2[:24, 2], c='green', edgecolor='none', label='Gene expression data (Polo)')\n",
        "    ax.scatter(d3[:24, 0], d3[:24, 2], c='blue', edgecolor='none', label='Gene expression data (Orange3)')\n",
        "\n",
        "    ax.legend(loc=2)\n",
        "    ax.grid('on')\n",
        "    ax.set_xlabel('log2(Number of leaves)')\n",
        "    ax.set_ylabel('Run time, seconds')\n",
        "    fig.tight_layout()\n",
        "    fig.savefig('data/bench.png', dpi=75)\n",
        "\n",
        "def make_figure():\n",
        "    gs = gridspec.GridSpec(5, 1,\n",
        "                       height_ratios=[3, 1, 2, 3, 1],\n",
        "                       hspace=0)\n",
        "\n",
        "    data, Z, D = get_random_data(100, 0)\n",
        "    order = leaves_list(Z)\n",
        "\n",
        "\n",
        "    runtime, opt_Z = run_polo(Z, D)\n",
        "    opt_order = leaves_list(opt_Z)\n",
        "\n",
        "    fig = plt.figure(figsize=(5,5))\n",
        "    axd1 = fig.add_subplot(gs[0,0])\n",
        "    axd1.set_title(\"Random numbers, clustered using Ward's criterion, default linear ordering.\", fontsize=9)\n",
        "    dendrogram(Z, ax=axd1, link_color_func=lambda k: 'k')\n",
        "    axd1.set_xticklabels(data[order].reshape(-1))\n",
        "    axd1.set_xticks([])\n",
        "    axd1.set_yticks([])\n",
        "\n",
        "    axh1 = fig.add_subplot(gs[1,0])\n",
        "    axh1.matshow(data[order].reshape((1,-1)), aspect='auto', cmap='RdBu', vmin=0, vmax=10000)\n",
        "    axh1.set_xticks([])\n",
        "    axh1.set_yticks([])\n",
        "\n",
        "    axd2 = fig.add_subplot(gs[3,0])\n",
        "    axd2.set_title(\"The same hierarchical clustering, arranged for optimal linear ordering.\", fontsize=9)\n",
        "    dendrogram(opt_Z, ax=axd2, link_color_func=lambda k: 'k')\n",
        "    axd2.set_xticklabels(data[opt_order].reshape(-1))\n",
        "    axd2.set_xticks([])\n",
        "    axd2.set_yticks([])\n",
        "\n",
        "    axh2 = fig.add_subplot(gs[4,0])\n",
        "    axh2.matshow(data[opt_order].reshape((1,-1)), aspect='auto', cmap='RdBu', vmin=0, vmax=10000)\n",
        "    axh2.set_xticks([])\n",
        "    axh2.set_yticks([])\n",
        "\n",
        "    fig.savefig('data/demo.png', dpi=130)\n",
        "\n",
        "\n",
        "if __name__==\"__main__\":\n",
        "    make_figure()\n",
        "    # benchmark()\n",
        "    #make_benchmark_figure()"
      ],
      "execution_count": null,
      "outputs": [
        {
          "output_type": "error",
          "ename": "NameError",
          "evalue": "ignored",
          "traceback": [
            "\u001b[0;31m---------------------------------------------------------------------------\u001b[0m",
            "\u001b[0;31mNameError\u001b[0m                                 Traceback (most recent call last)",
            "\u001b[0;32m<ipython-input-4-2b7a4aa0887c>\u001b[0m in \u001b[0;36m<module>\u001b[0;34m()\u001b[0m\n\u001b[1;32m    245\u001b[0m \u001b[0;34m\u001b[0m\u001b[0m\n\u001b[1;32m    246\u001b[0m \u001b[0;32mif\u001b[0m \u001b[0m__name__\u001b[0m\u001b[0;34m==\u001b[0m\u001b[0;34m\"__main__\"\u001b[0m\u001b[0;34m:\u001b[0m\u001b[0;34m\u001b[0m\u001b[0;34m\u001b[0m\u001b[0m\n\u001b[0;32m--> 247\u001b[0;31m     \u001b[0mmake_figure\u001b[0m\u001b[0;34m(\u001b[0m\u001b[0;34m)\u001b[0m\u001b[0;34m\u001b[0m\u001b[0;34m\u001b[0m\u001b[0m\n\u001b[0m\u001b[1;32m    248\u001b[0m     \u001b[0;31m# benchmark()\u001b[0m\u001b[0;34m\u001b[0m\u001b[0;34m\u001b[0m\u001b[0;34m\u001b[0m\u001b[0m\n\u001b[1;32m    249\u001b[0m     \u001b[0;31m#make_benchmark_figure()\u001b[0m\u001b[0;34m\u001b[0m\u001b[0;34m\u001b[0m\u001b[0;34m\u001b[0m\u001b[0m\n",
            "\u001b[0;32m<ipython-input-4-2b7a4aa0887c>\u001b[0m in \u001b[0;36mmake_figure\u001b[0;34m()\u001b[0m\n\u001b[1;32m    213\u001b[0m \u001b[0;34m\u001b[0m\u001b[0m\n\u001b[1;32m    214\u001b[0m \u001b[0;34m\u001b[0m\u001b[0m\n\u001b[0;32m--> 215\u001b[0;31m     \u001b[0mruntime\u001b[0m\u001b[0;34m,\u001b[0m \u001b[0mopt_Z\u001b[0m \u001b[0;34m=\u001b[0m \u001b[0mrun_polo\u001b[0m\u001b[0;34m(\u001b[0m\u001b[0mZ\u001b[0m\u001b[0;34m,\u001b[0m \u001b[0mD\u001b[0m\u001b[0;34m)\u001b[0m\u001b[0;34m\u001b[0m\u001b[0;34m\u001b[0m\u001b[0m\n\u001b[0m\u001b[1;32m    216\u001b[0m     \u001b[0mopt_order\u001b[0m \u001b[0;34m=\u001b[0m \u001b[0mleaves_list\u001b[0m\u001b[0;34m(\u001b[0m\u001b[0mopt_Z\u001b[0m\u001b[0;34m)\u001b[0m\u001b[0;34m\u001b[0m\u001b[0;34m\u001b[0m\u001b[0m\n\u001b[1;32m    217\u001b[0m \u001b[0;34m\u001b[0m\u001b[0m\n",
            "\u001b[0;32m<ipython-input-4-2b7a4aa0887c>\u001b[0m in \u001b[0;36mrun_polo\u001b[0;34m(Z, D)\u001b[0m\n\u001b[1;32m    140\u001b[0m \u001b[0;34m\u001b[0m\u001b[0m\n\u001b[1;32m    141\u001b[0m     \u001b[0mstart_time\u001b[0m \u001b[0;34m=\u001b[0m \u001b[0mtime\u001b[0m\u001b[0;34m.\u001b[0m\u001b[0mtime\u001b[0m\u001b[0;34m(\u001b[0m\u001b[0;34m)\u001b[0m\u001b[0;34m\u001b[0m\u001b[0;34m\u001b[0m\u001b[0m\n\u001b[0;32m--> 142\u001b[0;31m     \u001b[0mbest_Z\u001b[0m \u001b[0;34m=\u001b[0m \u001b[0moptimal_leaf_ordering\u001b[0m\u001b[0;34m(\u001b[0m\u001b[0mZ\u001b[0m\u001b[0;34m,\u001b[0m \u001b[0mD\u001b[0m\u001b[0;34m)\u001b[0m\u001b[0;34m\u001b[0m\u001b[0;34m\u001b[0m\u001b[0m\n\u001b[0m\u001b[1;32m    143\u001b[0m     \u001b[0mend_time\u001b[0m \u001b[0;34m=\u001b[0m \u001b[0mtime\u001b[0m\u001b[0;34m.\u001b[0m\u001b[0mtime\u001b[0m\u001b[0;34m(\u001b[0m\u001b[0;34m)\u001b[0m\u001b[0;34m\u001b[0m\u001b[0;34m\u001b[0m\u001b[0m\n\u001b[1;32m    144\u001b[0m     \u001b[0;32mreturn\u001b[0m \u001b[0mend_time\u001b[0m \u001b[0;34m-\u001b[0m \u001b[0mstart_time\u001b[0m\u001b[0;34m,\u001b[0m \u001b[0mbest_Z\u001b[0m\u001b[0;34m\u001b[0m\u001b[0;34m\u001b[0m\u001b[0m\n",
            "\u001b[0;32m<ipython-input-4-2b7a4aa0887c>\u001b[0m in \u001b[0;36moptimal_leaf_ordering\u001b[0;34m(Z, D)\u001b[0m\n\u001b[1;32m     95\u001b[0m \u001b[0;34m\u001b[0m\u001b[0m\n\u001b[1;32m     96\u001b[0m     \u001b[0;31m# Get Swaps\u001b[0m\u001b[0;34m\u001b[0m\u001b[0;34m\u001b[0m\u001b[0;34m\u001b[0m\u001b[0m\n\u001b[0;32m---> 97\u001b[0;31m     \u001b[0mmust_swap\u001b[0m \u001b[0;34m=\u001b[0m \u001b[0midentify_swaps\u001b[0m\u001b[0;34m(\u001b[0m\u001b[0msorted_Z\u001b[0m\u001b[0;34m,\u001b[0m \u001b[0msorted_D\u001b[0m\u001b[0;34m,\u001b[0m \u001b[0mcluster_ranges\u001b[0m\u001b[0;34m)\u001b[0m\u001b[0;34m\u001b[0m\u001b[0;34m\u001b[0m\u001b[0m\n\u001b[0m\u001b[1;32m     98\u001b[0m \u001b[0;34m\u001b[0m\u001b[0m\n\u001b[1;32m     99\u001b[0m \u001b[0;34m\u001b[0m\u001b[0m\n",
            "\u001b[0;31mNameError\u001b[0m: name 'identify_swaps' is not defined"
          ]
        }
      ]
    }
  ]
}