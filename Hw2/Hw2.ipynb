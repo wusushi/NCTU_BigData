{
  "nbformat": 4,
  "nbformat_minor": 0,
  "metadata": {
    "colab": {
      "name": "Hw2_309554029.ipynb",
      "provenance": [],
      "collapsed_sections": []
    },
    "kernelspec": {
      "name": "python3",
      "display_name": "Python 3"
    }
  },
  "cells": [
    {
      "cell_type": "code",
      "metadata": {
        "id": "bys-6j9h8WVi",
        "colab": {
          "base_uri": "https://localhost:8080/"
        },
        "outputId": "e2d2d08f-edc3-4a9a-c220-1f11c69febc5"
      },
      "source": [
        "!pip install pyspark"
      ],
      "execution_count": null,
      "outputs": [
        {
          "output_type": "stream",
          "text": [
            "Collecting pyspark\n",
            "\u001b[?25l  Downloading https://files.pythonhosted.org/packages/f0/26/198fc8c0b98580f617cb03cb298c6056587b8f0447e20fa40c5b634ced77/pyspark-3.0.1.tar.gz (204.2MB)\n",
            "\u001b[K     |████████████████████████████████| 204.2MB 64kB/s \n",
            "\u001b[?25hCollecting py4j==0.10.9\n",
            "\u001b[?25l  Downloading https://files.pythonhosted.org/packages/9e/b6/6a4fb90cd235dc8e265a6a2067f2a2c99f0d91787f06aca4bcf7c23f3f80/py4j-0.10.9-py2.py3-none-any.whl (198kB)\n",
            "\u001b[K     |████████████████████████████████| 204kB 46.0MB/s \n",
            "\u001b[?25hBuilding wheels for collected packages: pyspark\n",
            "  Building wheel for pyspark (setup.py) ... \u001b[?25l\u001b[?25hdone\n",
            "  Created wheel for pyspark: filename=pyspark-3.0.1-py2.py3-none-any.whl size=204612243 sha256=bd2073d260d109f74e6f7cc650e9b647299112340ee604728ed37de8c74580a4\n",
            "  Stored in directory: /root/.cache/pip/wheels/5e/bd/07/031766ca628adec8435bb40f0bd83bb676ce65ff4007f8e73f\n",
            "Successfully built pyspark\n",
            "Installing collected packages: py4j, pyspark\n",
            "Successfully installed py4j-0.10.9 pyspark-3.0.1\n"
          ],
          "name": "stdout"
        }
      ]
    },
    {
      "cell_type": "code",
      "metadata": {
        "id": "TNGfsepM8o2_"
      },
      "source": [
        "from pyspark.sql import SparkSession\n",
        "from pyspark import SparkConf, SparkContext\n",
        "import time\n",
        "# spark = SparkSession.builder.master(\"local\").getOrCreate()\n",
        "conf = SparkConf().setAppName('appname').setMaster(\"local[*]\")\n",
        "conf.set('spark.driver.memory', '40g')\n",
        "sc = SparkContext.getOrCreate(conf=conf)"
      ],
      "execution_count": null,
      "outputs": []
    },
    {
      "cell_type": "code",
      "metadata": {
        "id": "k51HMyOH8zvI",
        "colab": {
          "base_uri": "https://localhost:8080/",
          "height": 260
        },
        "outputId": "ac43f114-ed80-4b68-bab6-8c5a6d781cb0"
      },
      "source": [
        "import pandas as pd\n",
        "taxifile = []\n",
        "for i in range(9, 10):\n",
        "  month = \"\"\n",
        "  if i < 10:\n",
        "    month = \"0\" + str(i)\n",
        "  else:\n",
        "    month = str(i)\n",
        "  url = '/content/drive/Shared drives/NCTU-1091-Big Data/Homework 2/2008.csv'\n",
        "  taxicsv = pd.read_csv(url, \n",
        "              usecols=[\"Month\", \"ArrDelay\", \"DepDelay\"],\n",
        "              dtype={\"Month\" : \"int\", \"ArrDelay\" : \"float\", \"DepDelay\" : \"float\"}\n",
        "              )\n",
        "  taxifile.append(taxicsv)\n",
        "taxifile = pd.concat(taxifile, axis=0, ignore_index=True)\n",
        "print(taxifile)"
      ],
      "execution_count": null,
      "outputs": [
        {
          "output_type": "stream",
          "text": [
            "         Month  ArrDelay  DepDelay\n",
            "0            1     -14.0       8.0\n",
            "1            1       2.0      19.0\n",
            "2            1      14.0       8.0\n",
            "3            1      -6.0      -4.0\n",
            "4            1      34.0      34.0\n",
            "...        ...       ...       ...\n",
            "7009723     12      14.0       3.0\n",
            "7009724     12      -2.0      -1.0\n",
            "7009725     12       0.0      -5.0\n",
            "7009726     12       9.0      11.0\n",
            "7009727     12      -5.0       7.0\n",
            "\n",
            "[7009728 rows x 3 columns]\n"
          ],
          "name": "stdout"
        }
      ]
    },
    {
      "cell_type": "code",
      "metadata": {
        "id": "bMSW6CIJM43n",
        "colab": {
          "base_uri": "https://localhost:8080/",
          "height": 121
        },
        "outputId": "060d5cc5-754b-4aaa-bae7-cea3c9c72c73"
      },
      "source": [
        "import numpy as np\n",
        "\n",
        "print(taxifile.loc[178])\n",
        "print(type(taxifile.loc[178][1]))\n",
        "if np.isnan(taxifile.loc[178][1]):\n",
        "  print(True)\n",
        "else:\n",
        "  print(False)"
      ],
      "execution_count": null,
      "outputs": [
        {
          "output_type": "stream",
          "text": [
            "Month       1.0\n",
            "ArrDelay    NaN\n",
            "DepDelay    NaN\n",
            "Name: 178, dtype: float64\n",
            "<class 'numpy.float64'>\n",
            "True\n"
          ],
          "name": "stdout"
        }
      ]
    },
    {
      "cell_type": "code",
      "metadata": {
        "id": "pnEEc-Z0GvfI"
      },
      "source": [
        "from operator import add\n",
        "def dataProcessing(row):\n",
        "  if np.isnan(row[1]) and np.isnan(row[2]):\n",
        "    return [(row[0], -1000), (row[0], -1000)]\n",
        "  elif np.isnan(row[1]):\n",
        "    return [(row[0], -1000), (row[0], row[2])]\n",
        "  elif np.isnan(row[2]):\n",
        "    return [(row[0], row[1]), (row[0], -1000)]\n",
        "  else:\n",
        "    return [(row[0], row[1]), (row[0], row[2])]\n",
        "\n",
        "location = [\"Month\", \"ArrDelay\"]\n",
        "rddArr = sc.parallelize(taxifile.loc[:, location].values.tolist())\n",
        "countsArr = (rddArr.reduceByKey(max)\n",
        "        .collect()\n",
        "      )\n",
        "location = [\"Month\", \"DepDelay\"]\n",
        "rddDep = sc.parallelize(taxifile.loc[:, location].values.tolist())\n",
        "countsDep = (rddDep.reduceByKey(max)\n",
        "        .collect()\n",
        "      )"
      ],
      "execution_count": null,
      "outputs": []
    },
    {
      "cell_type": "code",
      "metadata": {
        "id": "vZSuVtt7OYdL",
        "colab": {
          "base_uri": "https://localhost:8080/",
          "height": 243
        },
        "outputId": "99d31585-cc36-47e5-a942-657f9fb9ee69"
      },
      "source": [
        "countsArr = sorted(countsArr, key=lambda x: x[0])\n",
        "countsDep = sorted(countsDep, key=lambda x: x[0])\n",
        "print(\"Month\\tArrDelay\\tDepDelay\")\n",
        "for i in range(12):\n",
        "  print(\"{}\\t{}\\t\\t{}\".format(countsArr[i][0], countsArr[i][1], countsDep[i][1]))\n",
        "\n",
        "# months = [[0, 0] for i in range(13)]\n",
        "# print(counts[2][1], counts[2][0][0], counts[2][0][1], months[int(counts[2][0][0])][1])\n",
        "# for i in range(len(counts)):\n",
        "#   if counts[i][1] > months[int(counts[i][0][0])][1] and counts[i][0][1] != -1000:\n",
        "#     months[int(counts[i][0][0])][0] = counts[i][0][1]\n",
        "#     months[int(counts[i][0][0])][1] = counts[i][1]\n",
        "# for i in range(len(months)):\n",
        "#   print(months[i])"
      ],
      "execution_count": null,
      "outputs": [
        {
          "output_type": "stream",
          "text": [
            "Month\tArrDelay\tDepDelay\n",
            "1.0\t1525.0\t\t1355.0\n",
            "2.0\t2461.0\t\t2457.0\n",
            "3.0\t1490.0\t\t1521.0\n",
            "4.0\t2453.0\t\t2467.0\n",
            "5.0\t1951.0\t\t1952.0\n",
            "6.0\t1707.0\t\t1710.0\n",
            "7.0\t1510.0\t\t1518.0\n",
            "8.0\t1359.0\t\t1367.0\n",
            "9.0\t1583.0\t\t1552.0\n",
            "10.0\t1392.0\t\t1369.0\n",
            "11.0\t1308.0\t\t1286.0\n",
            "12.0\t1655.0\t\t1597.0\n"
          ],
          "name": "stdout"
        }
      ]
    },
    {
      "cell_type": "code",
      "metadata": {
        "id": "jP2MGd3HMHYY",
        "colab": {
          "base_uri": "https://localhost:8080/"
        },
        "outputId": "9530b3b5-029a-4f5f-ac3d-d82eb934ed98"
      },
      "source": [
        "import pandas as pd\n",
        "flightfile = []\n",
        "for i in range(0, 6):\n",
        "  url = '/content/drive/Shared drives/NCTU-1091-Big Data/Homework 2/200' + str(i) + '.csv'\n",
        "  flightcsv = pd.read_csv(url, \n",
        "              usecols=[\"Year\", \"WeatherDelay\"],\n",
        "              dtype={\"Year\" : \"int\", \"WeatherDelay\" : \"float\"}\n",
        "              )\n",
        "  flightfile.append(flightcsv)\n",
        "flightfile = pd.concat(flightfile, axis=0, ignore_index=True)\n",
        "print(flightfile)"
      ],
      "execution_count": null,
      "outputs": [
        {
          "output_type": "stream",
          "text": [
            "          Year  WeatherDelay\n",
            "0         2000           NaN\n",
            "1         2000           NaN\n",
            "2         2000           NaN\n",
            "3         2000           NaN\n",
            "4         2000           NaN\n",
            "...        ...           ...\n",
            "37680587  2005           0.0\n",
            "37680588  2005           0.0\n",
            "37680589  2005           0.0\n",
            "37680590  2005           0.0\n",
            "37680591  2005           0.0\n",
            "\n",
            "[37680592 rows x 2 columns]\n"
          ],
          "name": "stdout"
        }
      ]
    },
    {
      "cell_type": "code",
      "metadata": {
        "id": "FPXNP23Qc0g0"
      },
      "source": [
        "def dataProcessing(row):\n",
        "  if pd.isnull(row[1]):\n",
        "    return ((row[0], \"NaN\"), 1)\n",
        "  elif row[1] <= 0:\n",
        "    return ((row[0], \"notDelayed\"), 1)\n",
        "  else:\n",
        "    return ((row[0], \"Delayed\"), 1)\n",
        "\n",
        "location = [\"Year\", \"WeatherDelay\"]\n",
        "rdd = sc.parallelize(flightfile.loc[:, location].values.tolist())\n",
        "counts = rdd.map(lambda row: dataProcessing(row)) \\\n",
        "      .reduceByKey(lambda a, b: a + b) \\\n",
        "      .collect()"
      ],
      "execution_count": null,
      "outputs": []
    },
    {
      "cell_type": "code",
      "metadata": {
        "id": "kb-uYMtRdE7l",
        "colab": {
          "base_uri": "https://localhost:8080/"
        },
        "outputId": "2df8051f-de9a-4048-d6ac-c143c9f9df1f"
      },
      "source": [
        "counts = sorted(counts)\n",
        "for i in range(len(counts)):\n",
        "  print(counts[i])"
      ],
      "execution_count": null,
      "outputs": [
        {
          "output_type": "stream",
          "text": [
            "((2000.0, 'NaN'), 5683047)\n",
            "((2001.0, 'NaN'), 5967780)\n",
            "((2002.0, 'NaN'), 5271359)\n",
            "((2003.0, 'Delayed'), 44620)\n",
            "((2003.0, 'NaN'), 2672742)\n",
            "((2003.0, 'notDelayed'), 3771178)\n",
            "((2004.0, 'Delayed'), 115989)\n",
            "((2004.0, 'notDelayed'), 7013281)\n",
            "((2005.0, 'Delayed'), 111388)\n",
            "((2005.0, 'notDelayed'), 7029208)\n"
          ],
          "name": "stdout"
        }
      ]
    },
    {
      "cell_type": "code",
      "metadata": {
        "id": "pI9GZJl2d9FO",
        "colab": {
          "base_uri": "https://localhost:8080/"
        },
        "outputId": "5594a41b-281f-4b8f-d694-f017d71168e8"
      },
      "source": [
        "import pandas as pd\n",
        "url = '/content/drive/Shared drives/NCTU-1091-Big Data/Homework 2/2007.csv'\n",
        "airportfile = pd.read_csv(url, \n",
        "            usecols=[\"ArrDelay\", \"DepDelay\", \"Origin\", \"Dest\"],\n",
        "            dtype={\"ArrDelay\" : \"float\", \"DepDelay\" : \"float\", \"Origin\" : \"str\", \"Dest\" : \"str\"}\n",
        "            )\n",
        "print(airportfile)"
      ],
      "execution_count": null,
      "outputs": [
        {
          "output_type": "stream",
          "text": [
            "         ArrDelay  DepDelay Origin Dest\n",
            "0             1.0       7.0    SMF  ONT\n",
            "1             8.0      13.0    SMF  PDX\n",
            "2            34.0      36.0    SMF  PDX\n",
            "3            26.0      30.0    SMF  PDX\n",
            "4            -3.0       1.0    SMF  PDX\n",
            "...           ...       ...    ...  ...\n",
            "7453210      13.0      -7.0    MCO  ATL\n",
            "7453211       5.0      11.0    ATL  SLC\n",
            "7453212      15.0      -1.0    LAX  ATL\n",
            "7453213      36.0      38.0    DFW  ATL\n",
            "7453214      33.0      24.0    ATL  MCO\n",
            "\n",
            "[7453215 rows x 4 columns]\n"
          ],
          "name": "stdout"
        }
      ]
    },
    {
      "cell_type": "code",
      "metadata": {
        "id": "vLHlvx-7Ny-d"
      },
      "source": [
        "def dataProcessing(row):\n",
        "  if pd.isnull(row[0]) and pd.isnull(row[1]):\n",
        "    return [((\"Arr\", \"NaN\"), 1), ((\"Dep\", \"NaN\"), 1)]\n",
        "  elif pd.isnull(row[0]) and row[1] > 0:\n",
        "    return [((\"Arr\", \"NaN\"), 1), ((\"Dep\", row[3]), 1)]\n",
        "  elif pd.isnull(row[1]) and row[0] > 0:\n",
        "    return [((\"Arr\", row[2]), 1), ((\"Dep\", \"NaN\"), 1)]\n",
        "  elif row[0] > 0 and row[1] > 0:\n",
        "    return [((\"Arr\", row[2]), 1), ((\"Dep\", row[3]), 1)]\n",
        "  elif row[0] > 0 and row[1] <= 0:\n",
        "    return [((\"Arr\", row[2]), 1), ((\"Dep\", \"0\"), 1)]\n",
        "  elif row[0] <= 0 and row[1] > 0:\n",
        "    return [((\"Arr\", \"0\"), 1), ((\"Dep\", row[3]), 1)]\n",
        "  else:\n",
        "    return [((\"Arr\", \"0\"), 1), ((\"Dep\", \"0\"), 1)]\n",
        "\n",
        "location = [\"ArrDelay\", \"DepDelay\", \"Origin\", \"Dest\"]\n",
        "rdd = sc.parallelize(airportfile.loc[:, location].values.tolist())\n",
        "counts = rdd.flatMap(lambda row: dataProcessing(row)) \\\n",
        "      .reduceByKey(lambda a, b: a + b) \\\n",
        "      .collect()"
      ],
      "execution_count": null,
      "outputs": []
    },
    {
      "cell_type": "code",
      "metadata": {
        "id": "sc8AmnmDPJUR",
        "colab": {
          "base_uri": "https://localhost:8080/"
        },
        "outputId": "5547665f-0779-401c-d3cf-8cc9e2cab478"
      },
      "source": [
        "# class ListNode:\n",
        "#   def __init__(self, node=None):\n",
        "#     self.node = node\n",
        "#     self.nextnode = None\n",
        "#   def listprint(head):\n",
        "#     printval = head\n",
        "#     while printval is not None:\n",
        "#       print(\"{}\\t{}\".format(printval.node[0], printval.node[1]))\n",
        "#       printval = printval.nextnode\n",
        "# arrhead = dephead = i = depList = arrList = 0\n",
        "# while arrhead == 0 or dephead == 0:\n",
        "#   if counts[i][0][0] == 'Arr' and arrhead == 0:\n",
        "#     arrList = ListNode([counts[0][1], counts[1]])\n",
        "#     arrhead = 1\n",
        "#   elif counts[i][0][0] == 'Dep' and dephead == 0:\n",
        "#     depList = ListNode([counts[0][1], counts[1]])\n",
        "#     dephead = 1\n",
        "#   i+=1\n",
        "counts = sorted(counts, key=lambda x: x[1], reverse=True)\n",
        "airport = [[] for i in range(2)]\n",
        "for i in range(20):\n",
        "  if counts[i][0][0] == 'Arr':\n",
        "    airport[0].append([counts[i][0][1], counts[i][1]])\n",
        "  else:\n",
        "    airport[1].append([counts[i][0][1], counts[i][1]])\n",
        "print(\"Origin\\tArrdelay\\tDestination\\tDepdelay\")\n",
        "for i in range(7):\n",
        "  print(\"{}\\t{}\\t\\t{}\\t{}\".format(airport[0][i][0], airport[0][i][1], airport[1][i][0], airport[1][i][1]))"
      ],
      "execution_count": null,
      "outputs": [
        {
          "output_type": "stream",
          "text": [
            "Origin\tArrdelay\tDestination\tDepdelay\n",
            "0\t3829420\t\t0\t4147653\n",
            "ATL\t209826\t\tNaN\t160748\n",
            "ORD\t188410\t\tATL\t156990\n",
            "NaN\t170340\t\tORD\t155461\n",
            "DFW\t148059\t\tDFW\t113790\n",
            "DEN\t122557\t\tLAX\t103285\n",
            "LAX\t113379\t\tPHX\t96496\n"
          ],
          "name": "stdout"
        }
      ]
    }
  ]
}